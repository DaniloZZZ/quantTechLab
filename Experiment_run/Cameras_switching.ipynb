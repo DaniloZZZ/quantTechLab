{
 "cells": [
  {
   "cell_type": "code",
   "execution_count": 1,
   "metadata": {},
   "outputs": [],
   "source": [
    "import numpy as np\n",
    "import matplotlib.pyplot as plt\n",
    "import os, time, shutil\n",
    "from PIL import Image\n",
    "from time import gmtime, strftime\n",
    "import csv\n",
    "import cv2\n",
    "import glob\n",
    "import serial,sys\n",
    "import signal\n",
    "\n",
    "from IPython.display import clear_output\n",
    "from IPython import display\n",
    "\n",
    "%matplotlib inline\n"
   ]
  },
  {
   "cell_type": "code",
   "execution_count": 4,
   "metadata": {},
   "outputs": [],
   "source": [
    "def get_cameras():\n",
    "    arr = []\n",
    "    for index in range(10):\n",
    "        print(index)\n",
    "        cap = cv2.VideoCapture(index)\n",
    "        if not cap.read()[0]:\n",
    "            continue\n",
    "        else:\n",
    "            arr.append(index)\n",
    "        cap.release()\n",
    "    return arr"
   ]
  },
  {
   "cell_type": "markdown",
   "metadata": {},
   "source": [
    "# Init cameras\n",
    "## Get available cameras"
   ]
  },
  {
   "cell_type": "code",
   "execution_count": 5,
   "metadata": {},
   "outputs": [
    {
     "name": "stdout",
     "output_type": "stream",
     "text": [
      "0\n",
      "1\n",
      "2\n",
      "3\n",
      "4\n",
      "5\n",
      "6\n",
      "7\n",
      "8\n",
      "9\n"
     ]
    },
    {
     "data": {
      "text/plain": [
       "[0, 2, 3]"
      ]
     },
     "execution_count": 5,
     "metadata": {},
     "output_type": "execute_result"
    }
   ],
   "source": [
    "cams_idxs = get_cameras()\n",
    "cams_idxs"
   ]
  },
  {
   "cell_type": "code",
   "execution_count": 8,
   "metadata": {},
   "outputs": [],
   "source": [
    "\n",
    "#\n",
    "# Attach interrupt handler to release cameras after sigterm\n",
    "def release_caps(caps):\n",
    "    for cap in caps:\n",
    "        try:\n",
    "            cap.release()\n",
    "            print(\"Released camera\")\n",
    "        except Exception as e:\n",
    "            print(\"Error\",e)\n",
    "        \n",
    "def gen_int_handler(caps):\n",
    "    def int_handler(signum, frame):\n",
    "        print(\"Got sigterm\")\n",
    "        release_caps(caps)\n",
    "        raise  Exception('Interrupt') \n",
    "        #cv2.destroyAllWindows()\n",
    "    return int_handler\n",
    "\n",
    "def init_caps(idx_list):\n",
    "    print(f\"Init cameras {idx_list}\")\n",
    "    caps = [cv2.VideoCapture(i) for i in (idx_list) ]\n",
    "\n",
    "    # Set exposition time-------\n",
    "    for cap in caps:\n",
    "        if not cap.isOpened():\n",
    "            print(\"Failed to init\")\n",
    "        cap.set(cv2.CAP_PROP_AUTO_EXPOSURE, 1)\n",
    "        # 10 was found to be the smallest value\n",
    "        cap.set(cv2.CAP_PROP_EXPOSURE, 10)\n",
    "        print(\"Param::auto exp?\",cap.get(cv2.CAP_PROP_AUTO_EXPOSURE))\n",
    "        print(\"Param::exp time\", cap.get(cv2.CAP_PROP_EXPOSURE))\n",
    "\n",
    "    signal.signal(signal.SIGINT, gen_int_handler(caps))\n",
    "    return caps\n"
   ]
  },
  {
   "cell_type": "code",
   "execution_count": 9,
   "metadata": {},
   "outputs": [
    {
     "name": "stdout",
     "output_type": "stream",
     "text": [
      "Released camera\n",
      "Released camera\n",
      "Released camera\n",
      "Init cameras [0, 2, 3]\n",
      "Param::auto exp? 0.75\n",
      "Param::exp time -0.00040016006402561027\n",
      "Param::auto exp? 0.75\n",
      "Param::exp time 0.19965870307167236\n",
      "Param::auto exp? 0.75\n",
      "Param::exp time -0.00040016006402561027\n"
     ]
    },
    {
     "data": {
      "text/plain": [
       "[<VideoCapture 0x7f3194b17450>,\n",
       " <VideoCapture 0x7f3194b17410>,\n",
       " <VideoCapture 0x7f3198678850>]"
      ]
     },
     "execution_count": 9,
     "metadata": {},
     "output_type": "execute_result"
    }
   ],
   "source": [
    "\n",
    "try:    #do not init if caps are defined\n",
    "    release_caps(caps)\n",
    "except NameError as e:\n",
    "    pass\n",
    "\n",
    "caps = init_caps(cams_idxs)\n",
    "#caps = init_caps([0,2])\n",
    "\n",
    "caps"
   ]
  },
  {
   "cell_type": "code",
   "execution_count": 10,
   "metadata": {},
   "outputs": [
    {
     "name": "stdout",
     "output_type": "stream",
     "text": [
      "Reading 0\n",
      "Reading 2\n",
      "Camera 2 returned None\n",
      "Released camera\n",
      "Released camera\n",
      "Released camera\n",
      "Trying to connect to 2 only\n",
      "Init cameras [2]\n",
      "Failed to init\n",
      "Param::auto exp? 0.0\n",
      "Param::exp time 0.0\n",
      "Reading 2\n",
      "Camera is closed.\n",
      "Camera 2 returned None\n",
      "Released camera\n",
      "Trying to connect to 2 only\n",
      "Init cameras [2]\n",
      "Failed to init\n",
      "Param::auto exp? 0.0\n",
      "Param::exp time 0.0\n",
      "Reading 2\n",
      "Camera is closed.\n",
      "Camera 2 returned None\n",
      "Released camera\n",
      "Trying to connect to 2 only\n",
      "Init cameras [2]\n",
      "Failed to init\n",
      "Param::auto exp? 0.0\n",
      "Param::exp time 0.0\n",
      "Reading 2\n",
      "Camera is closed.\n",
      "Camera 2 returned None\n",
      "!>>\n",
      "Camera 2 is not working at all\n",
      "Reading 3\n",
      "Camera is closed.\n",
      "Camera 3 returned None\n",
      "Released camera\n",
      "Released camera\n",
      "Released camera\n",
      "Trying to connect to 3 only\n",
      "Init cameras [3]\n",
      "Param::auto exp? 0.75\n",
      "Param::exp time -0.00040016006402561027\n",
      "Reading 3\n",
      "2\n"
     ]
    }
   ],
   "source": [
    "\n",
    "class CameraNoneException(Exception):\n",
    "    def __init___(self,dErrorArguments):\n",
    "        Exception.__init__(self,\"Camera read None {0}\".format(dErrArguments))\n",
    "        self.dErrorArguments = dErrorArguements\n",
    "        \n",
    "        \n",
    "def read_cameras(caps, idxs, retry_cnt=0):\n",
    "    results = []\n",
    "    for camera_idx, cap in zip(idxs,caps):\n",
    "        print(f\"Reading {camera_idx}\")\n",
    "        if cap.isOpened():\n",
    "            ret, img = cap.read()\n",
    "        else:\n",
    "            print(\"Camera is closed.\")\n",
    "            ret = None\n",
    "        if not ret:\n",
    "            print(f\"Camera {camera_idx} returned None\")\n",
    "\n",
    "            if retry_cnt<3:\n",
    "                release_caps(caps)\n",
    "                time.sleep(0.1)\n",
    "                print(f\"Trying to connect to {camera_idx} only\")\n",
    "                cap_retry = init_caps([camera_idx])\n",
    "                time.sleep(0.1)\n",
    "                res_retry = read_cameras(cap_retry, [camera_idx], retry_cnt=retry_cnt+1)\n",
    "                results += res_retry\n",
    "            else:\n",
    "                print(f\"!>>\\nCamera {camera_idx} is not working at all\")\n",
    "                continue\n",
    "        else:\n",
    "            results.append(img)\n",
    "    return results\n",
    "\n",
    "results = read_cameras(caps, cams_idxs)\n",
    "print(len(results))\n"
   ]
  },
  {
   "cell_type": "code",
   "execution_count": 7,
   "metadata": {
    "scrolled": true
   },
   "outputs": [
    {
     "ename": "TypeError",
     "evalue": "VideoCapture.get() missing required argument 'propId' (pos 1)",
     "output_type": "error",
     "traceback": [
      "\u001b[0;31m---------------------------------------------------------------------------\u001b[0m",
      "\u001b[0;31mTypeError\u001b[0m                                 Traceback (most recent call last)",
      "\u001b[0;32m<ipython-input-7-80c5f862bd5a>\u001b[0m in \u001b[0;36m<module>\u001b[0;34m\u001b[0m\n\u001b[0;32m----> 1\u001b[0;31m \u001b[0mcaps\u001b[0m\u001b[0;34m[\u001b[0m\u001b[0;36m0\u001b[0m\u001b[0;34m]\u001b[0m\u001b[0;34m.\u001b[0m\u001b[0mget\u001b[0m\u001b[0;34m(\u001b[0m\u001b[0;34m)\u001b[0m\u001b[0;34m\u001b[0m\u001b[0;34m\u001b[0m\u001b[0m\n\u001b[0m",
      "\u001b[0;31mTypeError\u001b[0m: VideoCapture.get() missing required argument 'propId' (pos 1)"
     ]
    }
   ],
   "source": [
    "while True:\n",
    "    for camera_idx, cap in zip(cams_idxs,caps):\n",
    "        ret, img = cap.read()\n",
    "        if not ret:\n",
    "            print(f\"Camera {camera_idx} returned None\")\n",
    "            print(\"Releasing all cameras and trying this camera only\")\n",
    "    if (tries==retry_cnt):\n",
    "        print(\"Camera %i is not working. Giving up.\"%num)\n",
    "        print()\n",
    "        break\n",
    "    time.sleep(retry_sec)\n"
   ]
  },
  {
   "cell_type": "code",
   "execution_count": null,
   "metadata": {},
   "outputs": [],
   "source": []
  },
  {
   "cell_type": "code",
   "execution_count": 1,
   "metadata": {
    "scrolled": false
   },
   "outputs": [
    {
     "ename": "AssertionError",
     "evalue": "",
     "output_type": "error",
     "traceback": [
      "\u001b[0;31m---------------------------------------------------------------------------\u001b[0m",
      "\u001b[0;31mAssertionError\u001b[0m                            Traceback (most recent call last)",
      "\u001b[0;32m<ipython-input-1-f98c5db3aa96>\u001b[0m in \u001b[0;36m<module>\u001b[0;34m\u001b[0m\n\u001b[1;32m      9\u001b[0m \u001b[0;32massert\u001b[0m \u001b[0mret0\u001b[0m \u001b[0;31m# succeeds\u001b[0m\u001b[0;34m\u001b[0m\u001b[0;34m\u001b[0m\u001b[0m\n\u001b[1;32m     10\u001b[0m \u001b[0mret1\u001b[0m\u001b[0;34m,\u001b[0m \u001b[0mframe1\u001b[0m \u001b[0;34m=\u001b[0m \u001b[0mcap1\u001b[0m\u001b[0;34m.\u001b[0m\u001b[0mread\u001b[0m\u001b[0;34m(\u001b[0m\u001b[0;34m)\u001b[0m\u001b[0;34m\u001b[0m\u001b[0;34m\u001b[0m\u001b[0m\n\u001b[0;32m---> 11\u001b[0;31m \u001b[0;32massert\u001b[0m \u001b[0mret1\u001b[0m \u001b[0;31m# fails?!\u001b[0m\u001b[0;34m\u001b[0m\u001b[0;34m\u001b[0m\u001b[0m\n\u001b[0m",
      "\u001b[0;31mAssertionError\u001b[0m: "
     ]
    }
   ],
   "source": [
    "import cv2\n",
    "cap0 = cv2.VideoCapture(0)\n",
    "cap0.set(3,160)\n",
    "cap0.set(4,120)\n",
    "cap1 = cv2.VideoCapture(2)\n",
    "cap1.set(3,160)\n",
    "cap1.set(4,120)\n",
    "ret0, frame0 = cap0.read()\n",
    "assert ret0 # succeeds\n",
    "ret1, frame1 = cap1.read()\n",
    "assert ret1 # fails?!"
   ]
  },
  {
   "cell_type": "markdown",
   "metadata": {},
   "source": [
    "# Threaded camera reading"
   ]
  },
  {
   "cell_type": "code",
   "execution_count": 19,
   "metadata": {},
   "outputs": [
    {
     "name": "stdout",
     "output_type": "stream",
     "text": [
      "Starting 0\n",
      "Starting 2\n",
      "fail 2\n"
     ]
    }
   ],
   "source": [
    "import cv2\n",
    "import threading\n",
    "import time\n",
    "\n",
    "class camThread(threading.Thread):\n",
    "    def __init__(self, img_array, camID, cap):\n",
    "        threading.Thread.__init__(self)\n",
    "        self.camID = camID\n",
    "        self.cap = cap\n",
    "        self.array = img_array\n",
    "    def run(self):t\n",
    "        print (\"Starting %s\"% self.camID)\n",
    "        if self.cap.isOpened():  # try to get the first frame\n",
    "            rval, frame = self.cap.read()\n",
    "            time.sleep(0)\n",
    "            if not rval:\n",
    "                print(\"fail\", self.camID)\n",
    "                frames = read\n",
    "\n",
    "        #pic = take_pic(self.camID)\n",
    "            self.array.append(frame)\n",
    "        else:\n",
    "            print(\"fail\")\n",
    "\n",
    "def take_pic(camID):\n",
    "    cam = cv2.VideoCapture(camID)\n",
    "    if cam.isOpened():  # try to get the first frame\n",
    "        time.sleep(0)\n",
    "        rval, frame = cam.read()\n",
    "        time.sleep(0)\n",
    "        print('read')\n",
    "        return frame\n",
    "    else:\n",
    "        rval = False\n",
    "\n",
    "# Create two threads as follows\n",
    "a = []\n",
    "b = []\n",
    "\n",
    "thread1 = camThread(a, 0, caps[0])\n",
    "thread2 = camThread(b, 2, caps[1])\n",
    "thread1.start()\n",
    "thread2.start()"
   ]
  },
  {
   "cell_type": "code",
   "execution_count": 10,
   "metadata": {},
   "outputs": [],
   "source": [
    "from cameras.threaded_cam import Camera\n"
   ]
  },
  {
   "cell_type": "code",
   "execution_count": 11,
   "metadata": {},
   "outputs": [
    {
     "name": "stdout",
     "output_type": "stream",
     "text": [
      "0\n",
      "1\n",
      "2\n",
      "3\n",
      "4\n",
      "5\n",
      "6\n",
      "7\n",
      "8\n",
      "9\n"
     ]
    },
    {
     "data": {
      "text/plain": [
       "[0, 2, 3]"
      ]
     },
     "execution_count": 11,
     "metadata": {},
     "output_type": "execute_result"
    }
   ],
   "source": [
    "cid = get_cameras()\n",
    "cid"
   ]
  },
  {
   "cell_type": "code",
   "execution_count": 12,
   "metadata": {},
   "outputs": [
    {
     "name": "stdout",
     "output_type": "stream",
     "text": [
      "trying to open Camera0\n",
      "trying to open Camera2\n",
      "trying to open Camera3\n",
      "trying to open Camera0\n"
     ]
    }
   ],
   "source": [
    "f = [Camera(i) for i in cid]\n",
    "ps  = [c.start() for c in f]\n"
   ]
  },
  {
   "cell_type": "code",
   "execution_count": 14,
   "metadata": {},
   "outputs": [
    {
     "data": {
      "text/plain": [
       "<bound method Queue.qsize of <queue.Queue object at 0x7fd220ea3e10>>"
      ]
     },
     "execution_count": 14,
     "metadata": {},
     "output_type": "execute_result"
    }
   ],
   "source": [
    "f[0].buffer.qsize"
   ]
  },
  {
   "cell_type": "code",
   "execution_count": 6,
   "metadata": {},
   "outputs": [
    {
     "ename": "KeyboardInterrupt",
     "evalue": "",
     "output_type": "error",
     "traceback": [
      "\u001b[0;31m---------------------------------------------------------------------------\u001b[0m",
      "\u001b[0;31mKeyboardInterrupt\u001b[0m                         Traceback (most recent call last)",
      "\u001b[0;32m<ipython-input-6-a72081d62a4f>\u001b[0m in \u001b[0;36m<module>\u001b[0;34m\u001b[0m\n\u001b[1;32m     14\u001b[0m               ).loop()\n\u001b[1;32m     15\u001b[0m \u001b[0;34m\u001b[0m\u001b[0m\n\u001b[0;32m---> 16\u001b[0;31m \u001b[0mt1\u001b[0m\u001b[0;34m.\u001b[0m\u001b[0mjoin\u001b[0m\u001b[0;34m(\u001b[0m\u001b[0;34m)\u001b[0m\u001b[0;34m\u001b[0m\u001b[0;34m\u001b[0m\u001b[0m\n\u001b[0m\u001b[1;32m     17\u001b[0m \u001b[0mt2\u001b[0m\u001b[0;34m.\u001b[0m\u001b[0mjoin\u001b[0m\u001b[0;34m(\u001b[0m\u001b[0;34m)\u001b[0m\u001b[0;34m\u001b[0m\u001b[0;34m\u001b[0m\u001b[0m\n\u001b[1;32m     18\u001b[0m \u001b[0mt3\u001b[0m\u001b[0;34m.\u001b[0m\u001b[0mjoin\u001b[0m\u001b[0;34m(\u001b[0m\u001b[0;34m)\u001b[0m\u001b[0;34m\u001b[0m\u001b[0;34m\u001b[0m\u001b[0m\n",
      "\u001b[0;32m/usr/lib/python3.7/threading.py\u001b[0m in \u001b[0;36mjoin\u001b[0;34m(self, timeout)\u001b[0m\n\u001b[1;32m   1030\u001b[0m \u001b[0;34m\u001b[0m\u001b[0m\n\u001b[1;32m   1031\u001b[0m         \u001b[0;32mif\u001b[0m \u001b[0mtimeout\u001b[0m \u001b[0;32mis\u001b[0m \u001b[0;32mNone\u001b[0m\u001b[0;34m:\u001b[0m\u001b[0;34m\u001b[0m\u001b[0;34m\u001b[0m\u001b[0m\n\u001b[0;32m-> 1032\u001b[0;31m             \u001b[0mself\u001b[0m\u001b[0;34m.\u001b[0m\u001b[0m_wait_for_tstate_lock\u001b[0m\u001b[0;34m(\u001b[0m\u001b[0;34m)\u001b[0m\u001b[0;34m\u001b[0m\u001b[0;34m\u001b[0m\u001b[0m\n\u001b[0m\u001b[1;32m   1033\u001b[0m         \u001b[0;32melse\u001b[0m\u001b[0;34m:\u001b[0m\u001b[0;34m\u001b[0m\u001b[0;34m\u001b[0m\u001b[0m\n\u001b[1;32m   1034\u001b[0m             \u001b[0;31m# the behavior of a negative timeout isn't documented, but\u001b[0m\u001b[0;34m\u001b[0m\u001b[0;34m\u001b[0m\u001b[0;34m\u001b[0m\u001b[0m\n",
      "\u001b[0;32m/usr/lib/python3.7/threading.py\u001b[0m in \u001b[0;36m_wait_for_tstate_lock\u001b[0;34m(self, block, timeout)\u001b[0m\n\u001b[1;32m   1046\u001b[0m         \u001b[0;32mif\u001b[0m \u001b[0mlock\u001b[0m \u001b[0;32mis\u001b[0m \u001b[0;32mNone\u001b[0m\u001b[0;34m:\u001b[0m  \u001b[0;31m# already determined that the C code is done\u001b[0m\u001b[0;34m\u001b[0m\u001b[0;34m\u001b[0m\u001b[0m\n\u001b[1;32m   1047\u001b[0m             \u001b[0;32massert\u001b[0m \u001b[0mself\u001b[0m\u001b[0;34m.\u001b[0m\u001b[0m_is_stopped\u001b[0m\u001b[0;34m\u001b[0m\u001b[0;34m\u001b[0m\u001b[0m\n\u001b[0;32m-> 1048\u001b[0;31m         \u001b[0;32melif\u001b[0m \u001b[0mlock\u001b[0m\u001b[0;34m.\u001b[0m\u001b[0macquire\u001b[0m\u001b[0;34m(\u001b[0m\u001b[0mblock\u001b[0m\u001b[0;34m,\u001b[0m \u001b[0mtimeout\u001b[0m\u001b[0;34m)\u001b[0m\u001b[0;34m:\u001b[0m\u001b[0;34m\u001b[0m\u001b[0;34m\u001b[0m\u001b[0m\n\u001b[0m\u001b[1;32m   1049\u001b[0m             \u001b[0mlock\u001b[0m\u001b[0;34m.\u001b[0m\u001b[0mrelease\u001b[0m\u001b[0;34m(\u001b[0m\u001b[0;34m)\u001b[0m\u001b[0;34m\u001b[0m\u001b[0;34m\u001b[0m\u001b[0m\n\u001b[1;32m   1050\u001b[0m             \u001b[0mself\u001b[0m\u001b[0;34m.\u001b[0m\u001b[0m_stop\u001b[0m\u001b[0;34m(\u001b[0m\u001b[0;34m)\u001b[0m\u001b[0;34m\u001b[0m\u001b[0;34m\u001b[0m\u001b[0m\n",
      "\u001b[0;31mKeyboardInterrupt\u001b[0m: "
     ]
    }
   ],
   "source": [
    "import cvpubsubs.webcam_pub as w\n",
    "from cvpubsubs.window_sub import SubscriberWindows\n",
    "\n",
    "t1 = w.VideoHandlerThread(0)\n",
    "t2 = w.VideoHandlerThread(2)\n",
    "t3 = w.VideoHandlerThread(3)\n",
    "\n",
    "t1.start()\n",
    "t2.start()\n",
    "t3.start()\n",
    "\n",
    "SubscriberWindows(window_names=['cammy', 'cammy2','cam3'],\n",
    "              video_sources=[0,2,3]\n",
    "              ).loop()\n",
    "\n",
    "t1.join()\n",
    "t2.join()\n",
    "t3.join()"
   ]
  },
  {
   "cell_type": "code",
   "execution_count": null,
   "metadata": {},
   "outputs": [],
   "source": []
  }
 ],
 "metadata": {
  "kernelspec": {
   "display_name": "Python 3",
   "language": "python",
   "name": "python3"
  },
  "language_info": {
   "codemirror_mode": {
    "name": "ipython",
    "version": 3
   },
   "file_extension": ".py",
   "mimetype": "text/x-python",
   "name": "python",
   "nbconvert_exporter": "python",
   "pygments_lexer": "ipython3",
   "version": "3.7.3"
  }
 },
 "nbformat": 4,
 "nbformat_minor": 2
}
