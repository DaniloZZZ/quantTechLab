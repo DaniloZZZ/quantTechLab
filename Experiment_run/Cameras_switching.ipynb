{
 "cells": [
  {
   "cell_type": "code",
   "execution_count": null,
   "metadata": {},
   "outputs": [],
   "source": [
    "import numpy as np\n",
    "import matplotlib.pyplot as plt\n",
    "import os, time\n",
    "from PIL import Image\n",
    "import cv2\n",
    "import glob\n",
    "import signal\n",
    "\n",
    "from IPython import display\n",
    "%matplotlib inline"
   ]
  },
  {
   "cell_type": "markdown",
   "metadata": {},
   "source": [
    "# Init cameras\n",
    "## Get available cameras"
   ]
  },
  {
   "cell_type": "code",
   "execution_count": null,
   "metadata": {},
   "outputs": [],
   "source": [
    "def get_cameras(cams=6):\n",
    "    arr = []\n",
    "    for index in range(cams):\n",
    "        print(index)\n",
    "        cap = cv2.VideoCapture(index)\n",
    "        if not cap.read()[0]:\n",
    "            continue\n",
    "        else:\n",
    "            arr.append(index)\n",
    "        cap.release()\n",
    "    return arr"
   ]
  },
  {
   "cell_type": "code",
   "execution_count": null,
   "metadata": {},
   "outputs": [],
   "source": [
    "cid = get_cameras()\n",
    "cid "
   ]
  },
  {
   "cell_type": "markdown",
   "metadata": {},
   "source": [
    "# Threaded camera reading"
   ]
  },
  {
   "cell_type": "code",
   "execution_count": null,
   "metadata": {},
   "outputs": [],
   "source": [
    "from cameras.threaded_cam import Camera\n"
   ]
  },
  {
   "cell_type": "code",
   "execution_count": null,
   "metadata": {},
   "outputs": [],
   "source": []
  },
  {
   "cell_type": "code",
   "execution_count": null,
   "metadata": {},
   "outputs": [],
   "source": [
    "cams = [Camera(i, buf_size=10) for i in cid]\n",
    "ps  = [c.start() for c in cams]\n"
   ]
  },
  {
   "cell_type": "code",
   "execution_count": null,
   "metadata": {
    "scrolled": false
   },
   "outputs": [],
   "source": [
    "means = []\n",
    "\n",
    "while True:\n",
    "    display.clear_output()\n",
    "    f, axs = plt.subplots(1,len(cams), figsize=(11,10*len(cams)))\n",
    "    \n",
    "    imgs = []\n",
    "    for c, ax in zip(cams, axs):\n",
    "        cum, cnt = 0,0\n",
    "        while not c.buffer.empty():\n",
    "            im = c.buffer.get() \n",
    "            cum += np.mean(im)\n",
    "            cnt += 1\n",
    "        mean = cum/cnt\n",
    "        print(f\"Read {cnt} frames from {c.name} with ints {mean}\")\n",
    "        means.append( mean )\n",
    "        ax.imshow(im)\n",
    "    plt.pause(0.1)\n",
    "    f, axs = plt.subplots()\n",
    "    szs = [ c.buffer.qsize() for c in cams]\n",
    "    print(\"buffer sizes:\", szs)\n",
    "    x = np.array(means)\n",
    "    x = x.reshape(-1, len(cams)).T\n",
    "    for l  in x:\n",
    "        axs.plot(l)\n",
    "    #display.display(plt.show())\n",
    "plt.show()\n",
    "        \n",
    "    "
   ]
  },
  {
   "cell_type": "code",
   "execution_count": null,
   "metadata": {},
   "outputs": [],
   "source": [
    "d = np.array(means).reshape(-1,3).T\n",
    "plt.plot(d[0][:-50])"
   ]
  },
  {
   "cell_type": "code",
   "execution_count": null,
   "metadata": {},
   "outputs": [],
   "source": [
    "!pwd"
   ]
  },
  {
   "cell_type": "code",
   "execution_count": null,
   "metadata": {},
   "outputs": [],
   "source": [
    "time.strftime('%Y_%m-%d')"
   ]
  },
  {
   "cell_type": "code",
   "execution_count": null,
   "metadata": {},
   "outputs": [],
   "source": [
    "# SAVING TO FILE\n",
    "save_to=\"/root/Desktop/quantTechLab/data/auto_rotate/ints1.csv\""
   ]
  },
  {
   "cell_type": "code",
   "execution_count": null,
   "metadata": {},
   "outputs": [],
   "source": [
    "\"\n",
    "\n",
    "print('total number of points: %i'%len(d))\n",
    "## times = np.arange(0,len(intens),file_check_interval)\n",
    "data = d\n",
    "np.savetxt(save_to,data,delimiter=',',fmt='%10.5f')\n",
    "print (\"saved to %s\"%save_to)"
   ]
  },
  {
   "cell_type": "markdown",
   "metadata": {},
   "source": [
    "# Graveyard\n",
    "\n",
    "Below are snippets that can be usefull for tweaking, but most probably are not needed anymore.\n",
    "\n",
    "This code rests in peace\n"
   ]
  },
  {
   "cell_type": "code",
   "execution_count": null,
   "metadata": {},
   "outputs": [],
   "source": [
    "np.array([1,22,33,5,27,39]).reshape(2,3).T"
   ]
  },
  {
   "cell_type": "code",
   "execution_count": null,
   "metadata": {},
   "outputs": [],
   "source": []
  },
  {
   "cell_type": "code",
   "execution_count": null,
   "metadata": {},
   "outputs": [],
   "source": [
    "\n",
    "#\n",
    "# Attach interrupt handler to release cameras after sigterm\n",
    "def release_caps(caps):\n",
    "    for cap in caps:\n",
    "        try:\n",
    "            cap.release()\n",
    "            print(\"Released camera\")\n",
    "        except Exception as e:\n",
    "            print(\"Error\",e)\n",
    "        \n",
    "def gen_int_handler(caps):\n",
    "    def int_handler(signum, frame):\n",
    "        print(\"Got sigterm\")\n",
    "        release_caps(caps)\n",
    "        raise  Exception('Interrupt') \n",
    "        #cv2.destroyAllWindows()\n",
    "    return int_handler\n",
    "\n",
    "def init_caps(idx_list):\n",
    "    print(f\"Init cameras {idx_list}\")\n",
    "    caps = [cv2.VideoCapture(i) for i in (idx_list) ]\n",
    "\n",
    "    # Set exposition time-------\n",
    "    for cap in caps:\n",
    "        if not cap.isOpened():\n",
    "            print(\"Failed to init\")\n",
    "        cap.set(cv2.CAP_PROP_AUTO_EXPOSURE, .25)\n",
    "        # 10 was found to be the smallest value\n",
    "        cap.set(cv2.CAP_PROP_EXPOSURE, 0.01)\n",
    "        print(\"Param::auto exp?\",cap.get(cv2.CAP_PROP_AUTO_EXPOSURE))\n",
    "        print(\"Param::exp time\", cap.get(cv2.CAP_PROP_EXPOSURE))\n",
    "\n",
    "    signal.signal(signal.SIGINT, gen_int_handler(caps))\n",
    "    return caps\n",
    "caps = init_caps(cid)"
   ]
  },
  {
   "cell_type": "code",
   "execution_count": null,
   "metadata": {},
   "outputs": [],
   "source": [
    "release_caps(caps)"
   ]
  },
  {
   "cell_type": "code",
   "execution_count": null,
   "metadata": {},
   "outputs": [],
   "source": [
    "\n",
    "class CameraNoneException(Exception):\n",
    "    def __init___(self,dErrorArguments):\n",
    "        Exception.__init__(self,\"Camera read None {0}\".format(dErrArguments))\n",
    "        self.dErrorArguments = dErrorArguements\n",
    "        \n",
    "        \n",
    "def read_cameras(caps, idxs, retry_cnt=0):\n",
    "    results = []\n",
    "    for camera_idx, cap in zip(idxs,caps):\n",
    "        print(f\"Reading {camera_idx}\")\n",
    "        if cap.isOpened():\n",
    "            ret, img = cap.read()\n",
    "        else:\n",
    "            print(\"Camera is closed.\")\n",
    "            ret = None\n",
    "        if not ret:\n",
    "            print(f\"Camera {camera_idx} returned None\")\n",
    "\n",
    "            if retry_cnt<3:\n",
    "                release_caps(caps)\n",
    "                time.sleep(0.1)\n",
    "                print(f\"Trying to connect to {camera_idx} only\")\n",
    "                cap_retry = init_caps([camera_idx])\n",
    "                time.sleep(0.1)\n",
    "                res_retry = read_cameras(cap_retry, [camera_idx], retry_cnt=retry_cnt+1)\n",
    "                results += res_retry\n",
    "            else:\n",
    "                print(f\"!>>\\nCamera {camera_idx} is not working at all\")\n",
    "                continue\n",
    "        else:\n",
    "            results.append(img)\n",
    "    return results\n",
    "\n",
    "while True:\n",
    "    display.clear_output()\n",
    "    results = read_cameras(caps, cid)\n",
    "    print(len(results))\n",
    "    for res in results:\n",
    "        plt.imshow(res)\n",
    "        plt.show()\n",
    "        plt.close()\n",
    "    time.sleep(0.5)\n"
   ]
  },
  {
   "cell_type": "code",
   "execution_count": null,
   "metadata": {
    "scrolled": true
   },
   "outputs": [],
   "source": [
    "# Main loop\n",
    "\n",
    "while True:\n",
    "    for camera_idx, cap in zip(cams_idxs,caps):\n",
    "        ret, img = cap.read()\n",
    "        if not ret:\n",
    "            print(f\"Camera {camera_idx} returned None\")\n",
    "            print(\"Releasing all cameras and trying this camera only\")\n",
    "    if (tries==retry_cnt):\n",
    "        print(\"Camera %i is not working. Giving up.\"%num)\n",
    "        print()\n",
    "        break\n",
    "    time.sleep(retry_sec)\n"
   ]
  },
  {
   "cell_type": "code",
   "execution_count": null,
   "metadata": {},
   "outputs": [],
   "source": [
    "import cv2\n",
    "import threading\n",
    "import time\n",
    "# Threaded camera reader\n",
    "\n",
    "class camThread(threading.Thread):\n",
    "    def __init__(self, img_array, camID, cap):\n",
    "        threading.Thread.__init__(self)\n",
    "        self.camID = camID\n",
    "        self.cap = cap\n",
    "        self.array = img_array\n",
    "    def run(self):t\n",
    "        print (\"Starting %s\"% self.camID)\n",
    "        if self.cap.isOpened():  # try to get the first frame\n",
    "            rval, frame = self.cap.read()\n",
    "            time.sleep(0)\n",
    "            if not rval:\n",
    "                print(\"fail\", self.camID)\n",
    "                frames = read\n",
    "\n",
    "        #pic = take_pic(self.camID)\n",
    "            self.array.append(frame)\n",
    "        else:\n",
    "            print(\"fail\")\n",
    "\n",
    "def take_pic(camID):\n",
    "    cam = cv2.VideoCapture(camID)\n",
    "    if cam.isOpened():  # try to get the first frame\n",
    "        time.sleep(0)\n",
    "        rval, frame = cam.read()\n",
    "        time.sleep(0)\n",
    "        print('read')\n",
    "        return frame\n",
    "    else:\n",
    "        rval = False\n",
    "\n",
    "# Create two threads as follows\n",
    "a = []\n",
    "b = []\n",
    "\n",
    "thread1 = camThread(a, 0, caps[0])\n",
    "thread2 = camThread(b, 2, caps[1])\n",
    "thread1.start()\n",
    "thread2.start()"
   ]
  },
  {
   "cell_type": "code",
   "execution_count": null,
   "metadata": {},
   "outputs": [],
   "source": [
    "# a library of some unknown buddy from stackoverflow\n",
    "import cvpubsubs.webcam_pub as w\n",
    "from cvpubsubs.window_sub import SubscriberWindows\n",
    "\n",
    "t1 = w.VideoHandlerThread(1)\n",
    "#t2 = w.VideoHandlerThread(2)\n",
    "#t3 = w.VideoHandlerThread(3)\n",
    "\n",
    "t1.start()\n",
    "#t2.start()\n",
    "#t3.start()\n",
    "\n",
    "SubscriberWindows(window_names=['cammy'],\n",
    "              video_sources=[1]\n",
    "              ).loop()\n",
    "\n",
    "t1.join()\n",
    "#t2.join()\n",
    "#t3.join()"
   ]
  },
  {
   "cell_type": "code",
   "execution_count": null,
   "metadata": {},
   "outputs": [],
   "source": []
  }
 ],
 "metadata": {
  "kernelspec": {
   "display_name": "Python 3",
   "language": "python",
   "name": "python3"
  },
  "language_info": {
   "codemirror_mode": {
    "name": "ipython",
    "version": 3
   },
   "file_extension": ".py",
   "mimetype": "text/x-python",
   "name": "python",
   "nbconvert_exporter": "python",
   "pygments_lexer": "ipython3",
   "version": "3.7.3"
  }
 },
 "nbformat": 4,
 "nbformat_minor": 2
}
