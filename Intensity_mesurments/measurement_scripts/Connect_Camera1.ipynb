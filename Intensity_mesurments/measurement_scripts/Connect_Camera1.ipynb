{
 "cells": [
  {
   "cell_type": "code",
   "execution_count": null,
   "metadata": {},
   "outputs": [],
   "source": []
  },
  {
   "cell_type": "code",
   "execution_count": null,
   "metadata": {},
   "outputs": [],
   "source": []
  },
  {
   "cell_type": "code",
   "execution_count": 2,
   "metadata": {
    "scrolled": true
   },
   "outputs": [],
   "source": [
    "import numpy as np\n",
    "import matplotlib.pyplot as plt\n",
    "import os, time, shutil\n",
    "from PIL import Image\n",
    "from time import gmtime, strftime\n",
    "import csv\n",
    "import cv2\n",
    "import glob\n",
    "import serial,sys\n",
    "import signal\n",
    "\n",
    "\n",
    "path=\"C:\\\\Users\\\\ЛФКИТ-3\\\\Documents\\\\Interferom\\\\img\\\\seq24_09\\\\\"\n",
    "from IPython.display import clear_output\n",
    "from IPython import display\n",
    "\n",
    "%matplotlib inline\n",
    "\n"
   ]
  },
  {
   "cell_type": "code",
   "execution_count": 3,
   "metadata": {},
   "outputs": [],
   "source": [
    "def get_cameras():\n",
    "    arr = []\n",
    "    for index in range(5):\n",
    "        cap = cv2.VideoCapture(index)\n",
    "        if not cap.read()[0]:\n",
    "            continue\n",
    "        else:\n",
    "            arr.append(index)\n",
    "        cap.release()\n",
    "    return arr"
   ]
  },
  {
   "cell_type": "code",
   "execution_count": 4,
   "metadata": {},
   "outputs": [],
   "source": [
    "#cams_idxs = get_cameras()\n",
    "#cams_idxs"
   ]
  },
  {
   "cell_type": "code",
   "execution_count": 7,
   "metadata": {
    "scrolled": false
   },
   "outputs": [
    {
     "name": "stdout",
     "output_type": "stream",
     "text": [
      "got cameras [0]\n",
      "auto exp? 1.0\n",
      "exp time 10.0\n"
     ]
    }
   ],
   "source": [
    "#shutil.rmtree(path)\n",
    "#os.makedirs(path)\n",
    "cam_idx = 0\n",
    "cams_idxs=[0]\n",
    "print(f\"got cameras {cams_idxs}\")\n",
    "\n",
    "caps = [cv2.VideoCapture(i) for i in (cams_idxs) ]\n",
    "# Set exposition time-------\n",
    "for cap in caps:\n",
    "    cap.set(cv2.CAP_PROP_AUTO_EXPOSURE, 1)\n",
    "    # 10 was found to be the smallest value\n",
    "    cap.set(cv2.CAP_PROP_EXPOSURE, 10)\n",
    "    print(\"auto exp?\",cap.get(cv2.CAP_PROP_AUTO_EXPOSURE))\n",
    "    print(\"exp time\", cap.get(cv2.CAP_PROP_EXPOSURE))\n",
    "    \n",
    "    #cap.release()\n",
    "#\n",
    "retry_sec = 0.5\n",
    "retry_cnt = 4\n",
    "\n",
    "def gen_int_handler(caps):\n",
    "    def int_handler(signum, frame):\n",
    "        print(\"Got sigterm, releasing cameras\")\n",
    "        for cap in caps:\n",
    "            cap.release()\n",
    "        raise  Exception('Interrupt') \n",
    "        #cv2.destroyAllWindows()\n",
    "    return int_handler\n",
    "\n",
    "\n",
    "def upd_plot(new_seq=[]):\n",
    "    display.clear_output(wait=True)\n",
    "    plt.plot(new_seq)\n",
    "    display.display(plt.show())\n",
    "    \n",
    "def counter(dt):\n",
    "    was = False\n",
    "    count = time.time()//dt+1\n",
    "    while True:\n",
    "        t = time.time()\n",
    "        if t//dt==count:\n",
    "            was = True\n",
    "            count+=1\n",
    "            yield t\n",
    "        time.sleep(0.001)\n",
    "        import sys\n",
    "\n",
    "%matplotlib inline\n",
    "\n"
   ]
  },
  {
   "cell_type": "code",
   "execution_count": 8,
   "metadata": {
    "scrolled": false
   },
   "outputs": [
    {
     "name": "stdout",
     "output_type": "stream",
     "text": [
      "image is empty\n"
     ]
    },
    {
     "data": {
      "image/png": "[encoded data removed]",
      "text/plain": [
       "<Figure size 864x432 with 1 Axes>"
      ]
     },
     "metadata": {
      "needs_background": "light"
     },
     "output_type": "display_data"
    },
    {
     "name": "stdout",
     "output_type": "stream",
     "text": [
      "got 0 new shots. Intensity: nan, stddev nan\n",
      " iter tme: 1.8115148544311523\n",
      "exp time 10.0\n",
      "Camera 0 returned None 1 times. retry in 0.500000 seconds\n",
      "exp time 10.0\n",
      "Camera 0 returned None 2 times. retry in 0.500000 seconds\n",
      "exp time 10.0\n",
      "Camera 0 returned None 3 times. retry in 0.500000 seconds\n",
      "Got sigterm, releasing cameras\n"
     ]
    },
    {
     "ename": "Exception",
     "evalue": "Interrupt",
     "output_type": "error",
     "traceback": [
      "\u001b[0;31m---------------------------------------------------------------------------\u001b[0m",
      "\u001b[0;31mException\u001b[0m                                 Traceback (most recent call last)",
      "\u001b[0;32m<ipython-input-8-c661c847f8c3>\u001b[0m in \u001b[0;36m<module>\u001b[0;34m\u001b[0m\n\u001b[1;32m     36\u001b[0m                             \u001b[0mprint\u001b[0m\u001b[0;34m(\u001b[0m\u001b[0;34m)\u001b[0m\u001b[0;34m\u001b[0m\u001b[0;34m\u001b[0m\u001b[0m\n\u001b[1;32m     37\u001b[0m                             \u001b[0;32mbreak\u001b[0m\u001b[0;34m\u001b[0m\u001b[0;34m\u001b[0m\u001b[0m\n\u001b[0;32m---> 38\u001b[0;31m                         \u001b[0mtime\u001b[0m\u001b[0;34m.\u001b[0m\u001b[0msleep\u001b[0m\u001b[0;34m(\u001b[0m\u001b[0mretry_sec\u001b[0m\u001b[0;34m)\u001b[0m\u001b[0;34m\u001b[0m\u001b[0;34m\u001b[0m\u001b[0m\n\u001b[0m\u001b[1;32m     39\u001b[0m                     \u001b[0;32melse\u001b[0m\u001b[0;34m:\u001b[0m\u001b[0;34m\u001b[0m\u001b[0;34m\u001b[0m\u001b[0m\n\u001b[1;32m     40\u001b[0m                         \u001b[0mmean\u001b[0m \u001b[0;34m=\u001b[0m \u001b[0mnp\u001b[0m\u001b[0;34m.\u001b[0m\u001b[0mmean\u001b[0m\u001b[0;34m(\u001b[0m\u001b[0mimg\u001b[0m\u001b[0;34m)\u001b[0m\u001b[0;34m\u001b[0m\u001b[0;34m\u001b[0m\u001b[0m\n",
      "\u001b[0;32m<ipython-input-7-3f76dbf7ea64>\u001b[0m in \u001b[0;36mint_handler\u001b[0;34m(signum, frame)\u001b[0m\n\u001b[1;32m     24\u001b[0m         \u001b[0;32mfor\u001b[0m \u001b[0mcap\u001b[0m \u001b[0;32min\u001b[0m \u001b[0mcaps\u001b[0m\u001b[0;34m:\u001b[0m\u001b[0;34m\u001b[0m\u001b[0;34m\u001b[0m\u001b[0m\n\u001b[1;32m     25\u001b[0m             \u001b[0mcap\u001b[0m\u001b[0;34m.\u001b[0m\u001b[0mrelease\u001b[0m\u001b[0;34m(\u001b[0m\u001b[0;34m)\u001b[0m\u001b[0;34m\u001b[0m\u001b[0;34m\u001b[0m\u001b[0m\n\u001b[0;32m---> 26\u001b[0;31m         \u001b[0;32mraise\u001b[0m  \u001b[0mException\u001b[0m\u001b[0;34m(\u001b[0m\u001b[0;34m'Interrupt'\u001b[0m\u001b[0;34m)\u001b[0m\u001b[0;34m\u001b[0m\u001b[0;34m\u001b[0m\u001b[0m\n\u001b[0m\u001b[1;32m     27\u001b[0m         \u001b[0;31m#cv2.destroyAllWindows()\u001b[0m\u001b[0;34m\u001b[0m\u001b[0;34m\u001b[0m\u001b[0;34m\u001b[0m\u001b[0m\n\u001b[1;32m     28\u001b[0m     \u001b[0;32mreturn\u001b[0m \u001b[0mint_handler\u001b[0m\u001b[0;34m\u001b[0m\u001b[0;34m\u001b[0m\u001b[0m\n",
      "\u001b[0;31mException\u001b[0m: Interrupt"
     ]
    }
   ],
   "source": [
    "files = []\n",
    "intens = []\n",
    "stddevs=[]\n",
    "times=[]\n",
    "#start =time.time()\n",
    "cam_shot_interval = 0.1\n",
    "#mean_over_shots = 50\n",
    "mean_over_time = 0.5   # seconds\n",
    "display_time = 20\n",
    "time_ = 0.0\n",
    "signal.signal(signal.SIGINT, gen_int_handler(caps))\n",
    "\n",
    "count = time.time()//mean_over_time+1\n",
    "iter_start = time.time()\n",
    "ins = []\n",
    "img = []\n",
    "while True:\n",
    "    num = 0\n",
    "    iter_start = time.time()\n",
    "    ins = []\n",
    "    while True:\n",
    "        t = time.time()\n",
    "        if t//mean_over_time<count:\n",
    "            for cam_idx, cap in enumerate(caps):\n",
    "                tries=0\n",
    "                img, ret = None, False\n",
    "                while True:\n",
    "                    ret, img = cap.read()\n",
    "                    print(\"exp time\", cap.get(cv2.CAP_PROP_EXPOSURE))\n",
    "\n",
    "                    if not ret:\n",
    "                        tries+=1\n",
    "                        print(\"Camera %i returned None %i times. retry in %f seconds\"%(cam_idx,tries,retry_sec))\n",
    "                        if (tries==retry_cnt):\n",
    "                            print(\"Camera %i is not working. Giving up.\"%num)\n",
    "                            print()\n",
    "                            break\n",
    "                        time.sleep(retry_sec)\n",
    "                    else:\n",
    "                        mean = np.mean(img)\n",
    "\n",
    "                        print(\"read from %i cam value %f\"%(num,mean))\n",
    "                        cv2.imshow(\"camera%i\"%num, img)\n",
    "                        # Sucessfully read, go for next cam\n",
    "                        ins.append(mean)\n",
    "                        break\n",
    "            time.sleep(cam_shot_interval)\n",
    "        else:\n",
    "            count = time.time()//mean_over_time+1\n",
    "            print(\"ending measurm\")\n",
    "            break\n",
    "    ints = np.mean(ins)\n",
    "    sdev = np.std(ins)\n",
    "\n",
    "    if not np.isnan(ints):\n",
    "        intens.append(ints)\n",
    "        stddevs.append(sdev)\n",
    "        times.append(t)\n",
    "\n",
    "    points_num = int(display_time//mean_over_time+1)\n",
    "    display_obj = (np.array(intens[-points_num:]),\n",
    "                   np.array(stddevs[-points_num:]))\n",
    "\n",
    "    display.clear_output(wait=True)\n",
    "    f,ax = plt.subplots(figsize=(12,6))\n",
    "    # plot intensities\n",
    "    ax.plot(times[-points_num:],display_obj[0])\n",
    "    # plot standart deviation\n",
    "    ax.fill_between(times[-points_num:], display_obj[0]+display_obj[1],\n",
    "                     display_obj[0]-display_obj[1], facecolor='blue', alpha=0.1)\n",
    "    plt.xlabel('time from Unix Epoch, sec')\n",
    "    if img is not None: plt.imshow( np.array(img))\n",
    "    else: print(\"image is empty\")\n",
    "        \n",
    "        \n",
    "    plt.show()\n",
    "\n",
    "    #display.display(plt.show())\n",
    "\n",
    "    print('got %i new shots. Intensity: %f, stddev %f'%\n",
    "          (len(ins), ints, sdev )) \n",
    "    print(' iter tme:',time.time() - iter_start)\n"
   ]
  },
  {
   "cell_type": "code",
   "execution_count": null,
   "metadata": {},
   "outputs": [],
   "source": []
  },
  {
   "cell_type": "code",
   "execution_count": null,
   "metadata": {},
   "outputs": [],
   "source": [
    "# SAVING TO FILE\n",
    "save_to=\"C:\\\\Users\\\\ЛФКИТ-3\\\\Documents\\\\Interferom\\\\data\\\\\"+\\\n",
    "        \"data_%s_port2.csv\"%time.strftime('%d-%m-%Y_%H-%M')\n",
    "\n",
    "print('total number of points: %i'%len(intens))\n",
    "result = np.array(intens)\n",
    "## times = np.arange(0,len(intens),file_check_interval)\n",
    "data = np.stack((result,times)).T\n",
    "print(data.shape)\n",
    "np.savetxt(save_to,data,delimiter=',',fmt='%10.5f')\n",
    "print (\"saved to %s\"%save_to)"
   ]
  },
  {
   "cell_type": "code",
   "execution_count": null,
   "metadata": {},
   "outputs": [],
   "source": []
  },
  {
   "cell_type": "code",
   "execution_count": null,
   "metadata": {},
   "outputs": [],
   "source": [
    "time.strftime('-%x-%H:%M')\n"
   ]
  },
  {
   "cell_type": "code",
   "execution_count": null,
   "metadata": {},
   "outputs": [],
   "source": []
  },
  {
   "cell_type": "code",
   "execution_count": null,
   "metadata": {},
   "outputs": [],
   "source": [
    "for i in counter(0.2):\n",
    "    print(i)"
   ]
  },
  {
   "cell_type": "code",
   "execution_count": null,
   "metadata": {},
   "outputs": [],
   "source": [
    "today = time.asctime()\n",
    "#today\n",
    "087.5959406%1.5\n",
    "rem = 087.5959406%1.5\n",
    "\n"
   ]
  },
  {
   "cell_type": "code",
   "execution_count": null,
   "metadata": {},
   "outputs": [],
   "source": [
    "87.5959406//1.5\n"
   ]
  },
  {
   "cell_type": "code",
   "execution_count": null,
   "metadata": {},
   "outputs": [],
   "source": [
    "1.5*58 + rem\n",
    "rem\n"
   ]
  }
 ],
 "metadata": {
  "kernelspec": {
   "display_name": "Python 3",
   "language": "python",
   "name": "python3"
  }
 },
 "nbformat": 4,
 "nbformat_minor": 2
}
