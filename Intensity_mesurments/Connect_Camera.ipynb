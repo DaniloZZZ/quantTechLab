{
 "cells": [
  {
   "cell_type": "code",
   "execution_count": null,
   "metadata": {},
   "outputs": [],
   "source": []
  },
  {
   "cell_type": "code",
   "execution_count": 1,
   "metadata": {},
   "outputs": [],
   "source": [
    "import numpy as np\n",
    "import matplotlib.pyplot as plt\n",
    "import os, time, shutil\n",
    "from PIL import Image\n",
    "from time import gmtime, strftime\n",
    "import csv\n",
    "import cv2\n",
    "import glob\n",
    "import serial,sys\n",
    "import signal\n",
    "\n",
    "\n",
    "path=\"C:\\\\Users\\\\ЛФКИТ-3\\\\Documents\\\\Interferom\\\\img\\\\seq24_09\\\\\"\n",
    "from IPython.display import clear_output\n",
    "from IPython import display\n",
    "\n",
    "%matplotlib inline\n",
    "\n"
   ]
  },
  {
   "cell_type": "code",
   "execution_count": 2,
   "metadata": {
    "scrolled": true
   },
   "outputs": [],
   "source": [
    "#shutil.rmtree(path)\n",
    "#os.makedirs(path)\n",
    "cam_idx = 0\n",
    "caps = [cv2.VideoCapture(i) for i in [cam_idx] ]\n",
    "# Set exposition time-------\n",
    "for cap in caps:\n",
    "    cap.set(15, 0.1)\n",
    "# \n",
    "retry_sec = 0.5\n",
    "retry_cnt = 5\n",
    "\n",
    "def gen_int_handler(caps):\n",
    "    def int_handler(signum, frame):\n",
    "        print(\"Got sigterm, releasing cameras\")\n",
    "        for cap in caps:\n",
    "            cap.release()\n",
    "        raise  Exception('Interrupt') \n",
    "        #cv2.destroyAllWindows()\n",
    "    return int_handler\n",
    "\n",
    "\n",
    "def upd_plot(new_seq=[]):\n",
    "    display.clear_output(wait=True)\n",
    "    plt.plot(new_seq)\n",
    "    display.display(plt.show())\n",
    "    \n",
    "def counter(dt):\n",
    "    was = False\n",
    "    count = time.time()//dt+1\n",
    "    while True:\n",
    "        t = time.time()\n",
    "        if t//dt==count:\n",
    "            was = True\n",
    "            count+=1\n",
    "            yield t\n",
    "        time.sleep(0.001)\n",
    "        import sys\n",
    "\n",
    "\n",
    "%matplotlib inline\n",
    "\n"
   ]
  },
  {
   "cell_type": "code",
   "execution_count": 3,
   "metadata": {
    "scrolled": false
   },
   "outputs": [
    {
     "data": {
      "image/png": "[encoded data removed]",
      "text/plain": [
       "<matplotlib.figure.Figure at 0x1f2c4f63da0>"
      ]
     },
     "metadata": {},
     "output_type": "display_data"
    },
    {
     "name": "stdout",
     "output_type": "stream",
     "text": [
      "got 1 new shots. Intensity: 0.005756, stddev 0.000000\n",
      " iter tme: 1.8880980014801025\n",
      "Got sigterm, releasing cameras\n"
     ]
    },
    {
     "ename": "Exception",
     "evalue": "Interrupt",
     "output_type": "error",
     "traceback": [
      "\u001b[1;31m---------------------------------------------------------------------------\u001b[0m",
      "\u001b[1;31mException\u001b[0m                                 Traceback (most recent call last)",
      "\u001b[1;32m<ipython-input-3-44733ffac41b>\u001b[0m in \u001b[0;36m<module>\u001b[1;34m()\u001b[0m\n\u001b[0;32m     26\u001b[0m                 \u001b[0mimg\u001b[0m\u001b[1;33m,\u001b[0m \u001b[0mret\u001b[0m \u001b[1;33m=\u001b[0m \u001b[1;32mNone\u001b[0m\u001b[1;33m,\u001b[0m \u001b[1;32mFalse\u001b[0m\u001b[1;33m\u001b[0m\u001b[0m\n\u001b[0;32m     27\u001b[0m                 \u001b[1;32mwhile\u001b[0m \u001b[1;32mTrue\u001b[0m\u001b[1;33m:\u001b[0m\u001b[1;33m\u001b[0m\u001b[0m\n\u001b[1;32m---> 28\u001b[1;33m                     \u001b[0mret\u001b[0m\u001b[1;33m,\u001b[0m \u001b[0mimg\u001b[0m \u001b[1;33m=\u001b[0m \u001b[0mcap\u001b[0m\u001b[1;33m.\u001b[0m\u001b[0mread\u001b[0m\u001b[1;33m(\u001b[0m\u001b[1;33m)\u001b[0m\u001b[1;33m\u001b[0m\u001b[0m\n\u001b[0m\u001b[0;32m     29\u001b[0m                     \u001b[1;32mif\u001b[0m \u001b[1;32mnot\u001b[0m \u001b[0mret\u001b[0m\u001b[1;33m:\u001b[0m\u001b[1;33m\u001b[0m\u001b[0m\n\u001b[0;32m     30\u001b[0m                         \u001b[0mtries\u001b[0m\u001b[1;33m+=\u001b[0m\u001b[1;36m1\u001b[0m\u001b[1;33m\u001b[0m\u001b[0m\n",
      "\u001b[1;32m<ipython-input-2-3ec817adee66>\u001b[0m in \u001b[0;36mint_handler\u001b[1;34m(signum, frame)\u001b[0m\n\u001b[0;32m     15\u001b[0m         \u001b[1;32mfor\u001b[0m \u001b[0mcap\u001b[0m \u001b[1;32min\u001b[0m \u001b[0mcaps\u001b[0m\u001b[1;33m:\u001b[0m\u001b[1;33m\u001b[0m\u001b[0m\n\u001b[0;32m     16\u001b[0m             \u001b[0mcap\u001b[0m\u001b[1;33m.\u001b[0m\u001b[0mrelease\u001b[0m\u001b[1;33m(\u001b[0m\u001b[1;33m)\u001b[0m\u001b[1;33m\u001b[0m\u001b[0m\n\u001b[1;32m---> 17\u001b[1;33m         \u001b[1;32mraise\u001b[0m  \u001b[0mException\u001b[0m\u001b[1;33m(\u001b[0m\u001b[1;34m'Interrupt'\u001b[0m\u001b[1;33m)\u001b[0m\u001b[1;33m\u001b[0m\u001b[0m\n\u001b[0m\u001b[0;32m     18\u001b[0m         \u001b[1;31m#cv2.destroyAllWindows()\u001b[0m\u001b[1;33m\u001b[0m\u001b[1;33m\u001b[0m\u001b[0m\n\u001b[0;32m     19\u001b[0m     \u001b[1;32mreturn\u001b[0m \u001b[0mint_handler\u001b[0m\u001b[1;33m\u001b[0m\u001b[0m\n",
      "\u001b[1;31mException\u001b[0m: Interrupt"
     ]
    }
   ],
   "source": [
    "files = []\n",
    "intens = []\n",
    "stddevs=[]\n",
    "times=[]\n",
    "#start =time.time()\n",
    "cam_shot_interval = 0.5\n",
    "#mean_over_shots = 50\n",
    "mean_over_time = 2    # seconds\n",
    "display_time = 20\n",
    "time_ = 0.0\n",
    "signal.signal(signal.SIGINT, gen_int_handler(caps))\n",
    "\n",
    "count = time.time()//mean_over_time+1\n",
    "iter_start = time.time()\n",
    "ins = []\n",
    "img = []\n",
    "while True:\n",
    "    num = 0\n",
    "    iter_start = time.time()\n",
    "    ins = []\n",
    "    while True:\n",
    "        t = time.time()\n",
    "        if t//mean_over_time<count:\n",
    "            for cap in caps:\n",
    "                tries=0\n",
    "                img, ret = None, False\n",
    "                while True:\n",
    "                    ret, img = cap.read()\n",
    "                    if not ret:\n",
    "                        tries+=1\n",
    "                        print(\"Camera %i returned None %i times. retry in %f seconds\"%(cam_idx,tries,retry_sec))\n",
    "                        if (tries==retry_cnt):\n",
    "                            print(\"Camera %i is not working. Giving up.\"%num)\n",
    "                            print()\n",
    "                            break\n",
    "                        time.sleep(retry_sec)\n",
    "                    else:\n",
    "                        cv2.imshow(\"camera%i\"%num, img)\n",
    "                        mean = np.mean(img)\n",
    "                        print(\"read from %i cam value %f\"%(num,mean))\n",
    "                        # Sucessfully read, go for next cam\n",
    "                        ins.append(mean)\n",
    "                        break\n",
    "            time.sleep(cam_shot_interval)\n",
    "        else:\n",
    "            count+=1\n",
    "            print(\"ending measurm\")\n",
    "            break\n",
    "    ints = np.mean(ins)\n",
    "    sdev = np.std(ins)\n",
    "    if not np.isnan(ints):\n",
    "        intens.append(ints)\n",
    "        stddevs.append(sdev)\n",
    "        times.append(t)\n",
    "\n",
    "    points_num = int(display_time//mean_over_time+1)\n",
    "    display_obj = (np.array(intens[-points_num:]),\n",
    "                   np.array(stddevs[-points_num:]))\n",
    "\n",
    "    display.clear_output(wait=True)\n",
    "    f,ax = plt.subplots(figsize=(12,6))\n",
    "    # plot intensities\n",
    "    ax.plot(times[-points_num:],display_obj[0])\n",
    "    # plot standart deviation\n",
    "    ax.fill_between(times[-points_num:], display_obj[0]+display_obj[1],\n",
    "                     display_obj[0]-display_obj[1], facecolor='blue', alpha=0.1)\n",
    "    plt.xlabel('time from Unix Epoch, sec')\n",
    "    plt.imshow( np.array(img))\n",
    "    plt.show()\n",
    "\n",
    "    #display.display(plt.show())\n",
    "\n",
    "    print('got %i new shots. Intensity: %f, stddev %f'%\n",
    "          (len(ins), ints, sdev )) \n",
    "    print(' iter tme:',time.time() - iter_start)\n"
   ]
  },
  {
   "cell_type": "code",
   "execution_count": null,
   "metadata": {},
   "outputs": [],
   "source": []
  },
  {
   "cell_type": "code",
   "execution_count": null,
   "metadata": {},
   "outputs": [],
   "source": [
    "# SAVING TO FILE\n",
    "save_to=\"C:\\\\Users\\\\ЛФКИТ-3\\\\Documents\\\\Interferom\\\\data\\\\\"+\\\n",
    "        \"data_%s_port2.csv\"%time.strftime('%d-%m-%Y_%H-%M')\n",
    "\n",
    "print('total number of points: %i'%len(intens))\n",
    "result = np.array(intens)\n",
    "## times = np.arange(0,len(intens),file_check_interval)\n",
    "data = np.stack((result,times)).T\n",
    "print(data.shape)\n",
    "np.savetxt(save_to,data,delimiter=',',fmt='%10.5f')\n",
    "print (\"saved to %s\"%save_to)"
   ]
  },
  {
   "cell_type": "code",
   "execution_count": null,
   "metadata": {},
   "outputs": [],
   "source": []
  },
  {
   "cell_type": "code",
   "execution_count": null,
   "metadata": {},
   "outputs": [],
   "source": [
    "time.strftime('-%x-%H:%M')\n"
   ]
  },
  {
   "cell_type": "code",
   "execution_count": null,
   "metadata": {},
   "outputs": [],
   "source": []
  },
  {
   "cell_type": "code",
   "execution_count": null,
   "metadata": {},
   "outputs": [],
   "source": [
    "for i in counter(0.2):\n",
    "    print(i)"
   ]
  },
  {
   "cell_type": "code",
   "execution_count": null,
   "metadata": {},
   "outputs": [],
   "source": [
    "today = time.asctime()\n",
    "#today\n",
    "087.5959406%1.5\n",
    "rem = 087.5959406%1.5\n",
    "\n"
   ]
  },
  {
   "cell_type": "code",
   "execution_count": null,
   "metadata": {},
   "outputs": [],
   "source": [
    "87.5959406//1.5\n"
   ]
  },
  {
   "cell_type": "code",
   "execution_count": null,
   "metadata": {},
   "outputs": [],
   "source": [
    "1.5*58 + rem\n",
    "rem\n"
   ]
  }
 ],
 "metadata": {
  "kernelspec": {
   "display_name": "Python 3",
   "language": "python",
   "name": "python3"
  },
  "language_info": {
   "codemirror_mode": {
    "name": "ipython",
    "version": 3
   },
   "file_extension": ".py",
   "mimetype": "text/x-python",
   "name": "python",
   "nbconvert_exporter": "python",
   "pygments_lexer": "ipython3",
   "version": "3.6.4"
  }
 },
 "nbformat": 4,
 "nbformat_minor": 2
}
