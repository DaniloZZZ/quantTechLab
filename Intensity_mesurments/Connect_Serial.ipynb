{
 "cells": [
  {
   "cell_type": "code",
   "execution_count": null,
   "metadata": {},
   "outputs": [],
   "source": []
  },
  {
   "cell_type": "code",
   "execution_count": 6,
   "metadata": {},
   "outputs": [],
   "source": [
    "import numpy as np\n",
    "import matplotlib.pyplot as plt\n",
    "import os, time, shutil\n",
    "from PIL import Image\n",
    "from time import gmtime, strftime\n",
    "import csv\n",
    "import cv2\n",
    "import glob\n",
    "import serial,sys\n",
    "import signal\n",
    "from serial import SerialException\n",
    "\n",
    "path=\"C:\\\\Users\\\\ЛФКИТ-3\\\\Documents\\\\Interferom\\\\img\\\\seq\\\\\"\n",
    "from IPython.display import clear_output\n",
    "from IPython import display\n",
    "\n",
    "%matplotlib inline\n",
    "\n"
   ]
  },
  {
   "cell_type": "code",
   "execution_count": 7,
   "metadata": {
    "scrolled": true
   },
   "outputs": [
    {
     "name": "stdout",
     "output_type": "stream",
     "text": [
      "could not open port 'COM3': PermissionError(13, 'Отказано в доступе.', None, 5)\n"
     ]
    }
   ],
   "source": [
    "try:\n",
    "    serialData = serial.Serial('COM3',115200)\n",
    "except SerialException as e:\n",
    "    print(e)\n",
    "    \n",
    "    \n",
    "def gen_int_handler(serial):\n",
    "    def int_handler(signum, frame):\n",
    "        print(\"Got sigterm, closing port\")\n",
    "        serial.close()\n",
    "        raise  Exception('Interrupt') \n",
    "        #cv2.destroyAllWindows()\n",
    "    return int_handler\n",
    "\n",
    "def upd_plot(new_seq=[]):\n",
    "    display.clear_output(wait=True)\n",
    "    plt.plot(new_seq)\n",
    "    display.display(plt.show()) "
   ]
  },
  {
   "cell_type": "code",
   "execution_count": 10,
   "metadata": {
    "scrolled": false
   },
   "outputs": [
    {
     "data": {
      "image/png": "[encoded data removed]",
      "text/plain": [
       "<Figure size 864x432 with 1 Axes>"
      ]
     },
     "metadata": {},
     "output_type": "display_data"
    },
    {
     "data": {
      "text/plain": [
       "None"
      ]
     },
     "metadata": {},
     "output_type": "display_data"
    },
    {
     "name": "stdout",
     "output_type": "stream",
     "text": [
      "got 2 new shots. Intensity: 0.000000, stddev 0.000000\n",
      " iter tme: 1.9596867561340332\n",
      "Got sigterm, closing port\n"
     ]
    },
    {
     "ename": "Exception",
     "evalue": "Interrupt",
     "output_type": "error",
     "traceback": [
      "\u001b[1;31m---------------------------------------------------------------------------\u001b[0m",
      "\u001b[1;31mException\u001b[0m                                 Traceback (most recent call last)",
      "\u001b[1;32m<ipython-input-10-1c3c8ed170a0>\u001b[0m in \u001b[0;36m<module>\u001b[1;34m()\u001b[0m\n\u001b[0;32m     23\u001b[0m             \u001b[0mtries\u001b[0m\u001b[1;33m=\u001b[0m\u001b[1;36m0\u001b[0m\u001b[1;33m\u001b[0m\u001b[0m\n\u001b[0;32m     24\u001b[0m             \u001b[0mimg\u001b[0m\u001b[1;33m,\u001b[0m \u001b[0mret\u001b[0m \u001b[1;33m=\u001b[0m \u001b[1;32mNone\u001b[0m\u001b[1;33m,\u001b[0m \u001b[1;32mFalse\u001b[0m\u001b[1;33m\u001b[0m\u001b[0m\n\u001b[1;32m---> 25\u001b[1;33m             \u001b[0mline\u001b[0m\u001b[1;33m=\u001b[0m \u001b[0mserialData\u001b[0m\u001b[1;33m.\u001b[0m\u001b[0mreadline\u001b[0m\u001b[1;33m(\u001b[0m\u001b[1;33m)\u001b[0m\u001b[1;33m\u001b[0m\u001b[0m\n\u001b[0m\u001b[0;32m     26\u001b[0m             \u001b[0mvalue\u001b[0m \u001b[1;33m=\u001b[0m \u001b[1;33m-\u001b[0m\u001b[1;36m1\u001b[0m\u001b[1;33m\u001b[0m\u001b[0m\n\u001b[0;32m     27\u001b[0m             \u001b[1;32mif\u001b[0m \u001b[0mline\u001b[0m\u001b[1;33m[\u001b[0m\u001b[1;33m-\u001b[0m\u001b[1;36m2\u001b[0m\u001b[1;33m:\u001b[0m\u001b[1;33m]\u001b[0m \u001b[1;33m!=\u001b[0m \u001b[1;34mb'\\r\\n'\u001b[0m\u001b[1;33m:\u001b[0m\u001b[1;33m\u001b[0m\u001b[0m\n",
      "\u001b[1;32mC:\\ProgramData\\Anaconda3\\lib\\site-packages\\serial\\serialwin32.py\u001b[0m in \u001b[0;36mread\u001b[1;34m(self, size)\u001b[0m\n\u001b[0;32m    288\u001b[0m                     \u001b[0mctypes\u001b[0m\u001b[1;33m.\u001b[0m\u001b[0mbyref\u001b[0m\u001b[1;33m(\u001b[0m\u001b[0mself\u001b[0m\u001b[1;33m.\u001b[0m\u001b[0m_overlapped_read\u001b[0m\u001b[1;33m)\u001b[0m\u001b[1;33m,\u001b[0m\u001b[1;33m\u001b[0m\u001b[0m\n\u001b[0;32m    289\u001b[0m                     \u001b[0mctypes\u001b[0m\u001b[1;33m.\u001b[0m\u001b[0mbyref\u001b[0m\u001b[1;33m(\u001b[0m\u001b[0mrc\u001b[0m\u001b[1;33m)\u001b[0m\u001b[1;33m,\u001b[0m\u001b[1;33m\u001b[0m\u001b[0m\n\u001b[1;32m--> 290\u001b[1;33m                     True)\n\u001b[0m\u001b[0;32m    291\u001b[0m                 \u001b[1;32mif\u001b[0m \u001b[1;32mnot\u001b[0m \u001b[0mresult_ok\u001b[0m\u001b[1;33m:\u001b[0m\u001b[1;33m\u001b[0m\u001b[0m\n\u001b[0;32m    292\u001b[0m                     \u001b[1;32mif\u001b[0m \u001b[0mwin32\u001b[0m\u001b[1;33m.\u001b[0m\u001b[0mGetLastError\u001b[0m\u001b[1;33m(\u001b[0m\u001b[1;33m)\u001b[0m \u001b[1;33m!=\u001b[0m \u001b[0mwin32\u001b[0m\u001b[1;33m.\u001b[0m\u001b[0mERROR_OPERATION_ABORTED\u001b[0m\u001b[1;33m:\u001b[0m\u001b[1;33m\u001b[0m\u001b[0m\n",
      "\u001b[1;32m<ipython-input-7-4bffefff9dcb>\u001b[0m in \u001b[0;36mint_handler\u001b[1;34m(signum, frame)\u001b[0m\n\u001b[0;32m      9\u001b[0m         \u001b[0mprint\u001b[0m\u001b[1;33m(\u001b[0m\u001b[1;34m\"Got sigterm, closing port\"\u001b[0m\u001b[1;33m)\u001b[0m\u001b[1;33m\u001b[0m\u001b[0m\n\u001b[0;32m     10\u001b[0m         \u001b[0mserial\u001b[0m\u001b[1;33m.\u001b[0m\u001b[0mclose\u001b[0m\u001b[1;33m(\u001b[0m\u001b[1;33m)\u001b[0m\u001b[1;33m\u001b[0m\u001b[0m\n\u001b[1;32m---> 11\u001b[1;33m         \u001b[1;32mraise\u001b[0m  \u001b[0mException\u001b[0m\u001b[1;33m(\u001b[0m\u001b[1;34m'Interrupt'\u001b[0m\u001b[1;33m)\u001b[0m\u001b[1;33m\u001b[0m\u001b[0m\n\u001b[0m\u001b[0;32m     12\u001b[0m         \u001b[1;31m#cv2.destroyAllWindows()\u001b[0m\u001b[1;33m\u001b[0m\u001b[1;33m\u001b[0m\u001b[0m\n\u001b[0;32m     13\u001b[0m     \u001b[1;32mreturn\u001b[0m \u001b[0mint_handler\u001b[0m\u001b[1;33m\u001b[0m\u001b[0m\n",
      "\u001b[1;31mException\u001b[0m: Interrupt"
     ]
    }
   ],
   "source": [
    "files = []\n",
    "intens = []\n",
    "stddevs=[]\n",
    "times=[]\n",
    "#start =time.time()\n",
    "cam_shot_interval = 0.5\n",
    "#mean_over_shots = 50\n",
    "mean_over_time = 2    # seconds\n",
    "display_time = 20\n",
    "time_ = 0.0\n",
    "signal.signal(signal.SIGINT, gen_int_handler(serialData))\n",
    "\n",
    "count = time.time()//mean_over_time+1\n",
    "iter_start = time.time()\n",
    "ins = []\n",
    "while True:\n",
    "    num = 0\n",
    "    iter_start = time.time()\n",
    "    ins = []\n",
    "    while True:\n",
    "        t = time.time()\n",
    "        if t//mean_over_time<count:\n",
    "            tries=0\n",
    "            img, ret = None, False\n",
    "            line= serialData.readline()\n",
    "            value = -1\n",
    "            if line[-2:] != b'\\r\\n':\n",
    "                print(\"Something wrong with data format:\",line,\"expected 'b\\r\\n'\")\n",
    "            else:\n",
    "                value = int(line[:-2])\n",
    "            mean = value\n",
    "            print(\"Read from serial %f\"%(mean))\n",
    "            ins.append(mean)\n",
    "            time.sleep(cam_shot_interval)\n",
    "        else:\n",
    "            count+=1\n",
    "            print(\"ending measurm\")\n",
    "            break\n",
    "    ints = np.mean(ins)\n",
    "    sdev = np.std(ins)\n",
    "    if not np.isnan(ints):\n",
    "        intens.append(ints)\n",
    "        stddevs.append(sdev)\n",
    "        times.append(t)\n",
    "\n",
    "    points_num = int(display_time//mean_over_time+1)\n",
    "    display_obj = (np.array(intens[-points_num:]),\n",
    "                   np.array(stddevs[-points_num:]))\n",
    "\n",
    "    display.clear_output(wait=True)\n",
    "    f,ax = plt.subplots(figsize=(12,6))\n",
    "    # plot intensities\n",
    "    ax.plot(times[-points_num:],display_obj[0])\n",
    "    # plot standart deviation\n",
    "    ax.fill_between(times[-points_num:], display_obj[0]+display_obj[1],\n",
    "                     display_obj[0]-display_obj[1], facecolor='blue', alpha=0.1)\n",
    "    plt.xlabel('time from Unix Epoch, sec')\n",
    "\n",
    "    display.display(plt.show())\n",
    "\n",
    "    print('got %i new shots. Intensity: %f, stddev %f'%\n",
    "          (len(ins), ints, sdev )) \n",
    "    print(' iter tme:',time.time() - iter_start)\n"
   ]
  },
  {
   "cell_type": "code",
   "execution_count": null,
   "metadata": {},
   "outputs": [],
   "source": []
  },
  {
   "cell_type": "code",
   "execution_count": null,
   "metadata": {},
   "outputs": [],
   "source": [
    "# SAVING TO FILE\n",
    "save_to=\"C:\\\\Users\\\\ЛФКИТ-3\\\\Documents\\\\Interferom\\\\data\\\\\"+\\\n",
    "        \"data_%s_port2.csv\"%time.strftime('%d-%m-%Y_%H-%M')\n",
    "\n",
    "print('total number of points: %i'%len(intens))\n",
    "result = np.array(intens)\n",
    "## times = np.arange(0,len(intens),file_check_interval)\n",
    "data = np.stack((result,times)).T\n",
    "print(data.shape)\n",
    "np.savetxt(save_to,data,delimiter=',',fmt='%10.5f')\n",
    "print (\"saved to %s\"%save_to)"
   ]
  },
  {
   "cell_type": "code",
   "execution_count": null,
   "metadata": {},
   "outputs": [],
   "source": []
  },
  {
   "cell_type": "code",
   "execution_count": null,
   "metadata": {},
   "outputs": [],
   "source": [
    "time.strftime('-%x-%H:%M')\n"
   ]
  },
  {
   "cell_type": "code",
   "execution_count": null,
   "metadata": {},
   "outputs": [],
   "source": []
  },
  {
   "cell_type": "code",
   "execution_count": null,
   "metadata": {},
   "outputs": [],
   "source": [
    "for i in counter(0.2):\n",
    "    print(i)"
   ]
  },
  {
   "cell_type": "code",
   "execution_count": null,
   "metadata": {},
   "outputs": [],
   "source": [
    "today = time.asctime()\n",
    "#today\n",
    "087.5959406%1.5\n",
    "rem = 087.5959406%1.5\n",
    "\n"
   ]
  },
  {
   "cell_type": "code",
   "execution_count": null,
   "metadata": {},
   "outputs": [],
   "source": [
    "87.5959406//1.5\n"
   ]
  },
  {
   "cell_type": "code",
   "execution_count": null,
   "metadata": {},
   "outputs": [],
   "source": [
    "1.5*58 + rem\n",
    "rem\n"
   ]
  }
 ],
 "metadata": {
  "kernelspec": {
   "display_name": "Python 3",
   "language": "python",
   "name": "python3"
  },
  "language_info": {
   "codemirror_mode": {
    "name": "ipython",
    "version": 3
   },
   "file_extension": ".py",
   "mimetype": "text/x-python",
   "name": "python",
   "nbconvert_exporter": "python",
   "pygments_lexer": "ipython3",
   "version": "3.6.6"
  }
 },
 "nbformat": 4,
 "nbformat_minor": 2
}
