{
 "cells": [
  {
   "cell_type": "code",
   "execution_count": 1,
   "metadata": {},
   "outputs": [],
   "source": [
    "import torch\n",
    "import torch.nn as nn\n",
    "import torch.nn.functional as F\n",
    "import torch.optim as optim\n",
    "from torchvision import datasets, transforms"
   ]
  },
  {
   "cell_type": "code",
   "execution_count": 2,
   "metadata": {},
   "outputs": [],
   "source": [
    "BATCH=200\n",
    "path = r'C:\\Users\\ЛФКИТ-3\\Documents\\quantTechLab\\data\\img'"
   ]
  },
  {
   "cell_type": "code",
   "execution_count": 114,
   "metadata": {},
   "outputs": [],
   "source": [
    "import os\n",
    "import numpy as np\n",
    "from pathlib import Path\n",
    "from torch.utils.data import Dataset\n",
    "import imageio\n",
    "\n",
    "\n",
    "class Imaged_data_set(Dataset):\n",
    "    def __init__(self, folder, transform = None, size = 1, start = True, filtered = None):\n",
    "        self.folder = Path(folder)\n",
    "        self.names = os.listdir(self.folder)[:-1]\n",
    "        \n",
    "        \n",
    "        if start:\n",
    "            self.names = self.names[:int(size*(len(self.names)))]\n",
    "        else: \n",
    "            self.names = self.names[int((1-size)*(len(self.names))): ]\n",
    "        self.names.sort(key= lambda x: int(x.split(\"_\")[0]))\n",
    "        self.transform = transform\n",
    "        self.images = []\n",
    "        self.target = []\n",
    "        for idx in range(len(self.names)):\n",
    "            self.images.append(np.array(imageio.imread(str(self.folder/self.names[idx]))))\n",
    "            self.target.append(float(self.names[idx].split(\"_\")[1]))\n",
    "        self.images = np.array(self.images)\n",
    "        self.target = np.array(self.target)\n",
    "        \n",
    "        if filtered:\n",
    "            self.images = self.images[filtered(self.target)]\n",
    "            self.target = self.target[filtered(self.target)]\n",
    "        \n",
    "        \n",
    "    def __getitem__(self, idx):\n",
    "        \n",
    "        np_img = self.images[idx]\n",
    "        y_true = self.target[idx]\n",
    "        if self.transform:\n",
    "            np_img = self.transform(np_img)\n",
    "            y_true = torch.tensor(y_true, dtype=torch.float)\n",
    "            y_true = y_true.view(-1,)\n",
    "\n",
    "\n",
    "        \n",
    "        return np_img, y_true\n",
    "    def __len__(self):\n",
    "        return  len(self.target)\n",
    "    def print_target_statistic(self):\n",
    "        \n",
    "        print(f\"MEAN = {self.target.mean()} \\t MSE = {self.target.std()**2} \\t SIGMA = {self.target.std()}\")"
   ]
  },
  {
   "cell_type": "code",
   "execution_count": 115,
   "metadata": {},
   "outputs": [],
   "source": [
    "def condition(a):\n",
    "    return a > 0.113"
   ]
  },
  {
   "cell_type": "code",
   "execution_count": 116,
   "metadata": {},
   "outputs": [],
   "source": [
    "train_loader_1 = Imaged_data_set(path, transform=transforms.Compose([\n",
    "                           transforms.ToTensor(),\n",
    "                           transforms.Normalize((0.1307,), (0.3081,))]), size = 1, start = True, filtered = condition)\n",
    "test_loader_1 = Imaged_data_set(path, transform=transforms.Compose([\n",
    "                           transforms.ToTensor(),\n",
    "                           transforms.Normalize((0.1307,), (0.3081,))]), size = 0.5, start = False, filtered = condition)"
   ]
  },
  {
   "cell_type": "code",
   "execution_count": 117,
   "metadata": {},
   "outputs": [
    {
     "name": "stdout",
     "output_type": "stream",
     "text": [
      "MEAN = 0.11853999059336091 \t MSE = 1.0956723746544807e-05 \t SIGMA = 0.0033100942201914445\n"
     ]
    }
   ],
   "source": [
    "train_loader_1.print_target_statistic()"
   ]
  },
  {
   "cell_type": "code",
   "execution_count": 118,
   "metadata": {},
   "outputs": [],
   "source": [
    "train_loader = torch.utils.data.DataLoader(\n",
    "        train_loader_1,\n",
    "     batch_size=BATCH, shuffle=True)\n",
    "test_loader = torch.utils.data.DataLoader(\n",
    "        test_loader_1,\n",
    "batch_size=BATCH, shuffle=True)"
   ]
  },
  {
   "cell_type": "code",
   "execution_count": 119,
   "metadata": {},
   "outputs": [],
   "source": [
    "\n",
    "class Net(nn.Module):\n",
    "    def __init__(self):\n",
    "        super(Net, self).__init__()\n",
    "        self.conv1 = nn.Conv2d(3, 20, 5, 1)\n",
    "        self.conv2 = nn.Conv2d(20, 50, 5, 1)\n",
    "        #self.conv3 = nn.Conv2d(50, 60, 5, 1)\n",
    "\n",
    "        self.fc1 = nn.Linear(14*19*50, 500)\n",
    "        self.fc2 = nn.Linear(500, 1)\n",
    "\n",
    "    def forward(self, x):\n",
    "        x = F.relu(self.conv1(x))\n",
    "        #print(x.shape)\n",
    "        x = F.max_pool2d(x, 3, 3)\n",
    "        x = F.relu(self.conv2(x))\n",
    "        #print(x.shape)\n",
    "        x = F.max_pool2d(x, 3, 3)\n",
    "        #x = F.relu(self.conv3(x))\n",
    "        #print(x.shape)\n",
    "\n",
    "        #x = F.max_pool2d(x, 2, 2)\n",
    "        x = x.view(-1, 14*19*50)\n",
    "        x = F.relu(self.fc1(x))\n",
    "        x = self.fc2(x)\n",
    "        return x\n",
    "    \n",
    "def train(model, device, train_loader, optimizer, epoch):\n",
    "    model.train()\n",
    "    for batch_idx, (data, target) in enumerate(train_loader):\n",
    "        data, target = data.to(device), target.to(device)\n",
    "        optimizer.zero_grad()\n",
    "        output = model(data)\n",
    "        loss = F.mse_loss(output, target)\n",
    "        loss.backward()\n",
    "        optimizer.step()\n",
    "        if batch_idx % 10 == 0:\n",
    "            print('Train Epoch: {} [{}/{} ({:.0f}%)]\\tLoss: {:.6f}\\t mse: {}'.format(\n",
    "                epoch, batch_idx * len(data), len(train_loader.dataset),\n",
    "                100. * batch_idx / len(train_loader), loss.item(), target.std()**2))\n",
    "\n",
    "def test(model, device, test_loader):\n",
    "    model.eval()\n",
    "    test_loss = 0\n",
    "    correct = 0.\n",
    "    with torch.no_grad():\n",
    "        for data, target in test_loader:\n",
    "            data, target = data.to(device), target.to(device)\n",
    "            output = model(data)\n",
    "            test_loss += F.mse_loss(output, target, reduction='sum').item() # sum up batch loss\n",
    "\n",
    "    test_loss /= len(test_loader.dataset)\n",
    "\n",
    "    print('\\nTest set: Average loss: {:.7f}\\n'.format(\n",
    "        test_loss))"
   ]
  },
  {
   "cell_type": "code",
   "execution_count": 120,
   "metadata": {},
   "outputs": [],
   "source": [
    "model = Net()\n",
    "use_cuda = False\n",
    "device = torch.device(\"cuda\" if use_cuda else \"cpu\")"
   ]
  },
  {
   "cell_type": "code",
   "execution_count": null,
   "metadata": {
    "scrolled": true
   },
   "outputs": [
    {
     "name": "stdout",
     "output_type": "stream",
     "text": [
      "Train Epoch: 1 [0/1624 (0%)]\tLoss: 0.011324\t mse: 1.2090266864106525e-05\n",
      "\n",
      "Test set: Average loss: 0.0068163\n",
      "\n",
      "Train Epoch: 2 [0/1624 (0%)]\tLoss: 0.006809\t mse: 1.0688023394322954e-05\n",
      "\n",
      "Test set: Average loss: 0.0025722\n",
      "\n",
      "Train Epoch: 3 [0/1624 (0%)]\tLoss: 0.002559\t mse: 1.09845041151857e-05\n",
      "\n",
      "Test set: Average loss: 0.0014086\n",
      "\n",
      "Train Epoch: 4 [0/1624 (0%)]\tLoss: 0.001397\t mse: 1.1147831173730083e-05\n",
      "\n",
      "Test set: Average loss: 0.0011094\n",
      "\n",
      "Train Epoch: 5 [0/1624 (0%)]\tLoss: 0.001153\t mse: 1.0000410838983953e-05\n",
      "\n",
      "Test set: Average loss: 0.0006922\n",
      "\n"
     ]
    }
   ],
   "source": [
    "optimizer = optim.Adam(model.parameters(), lr=0.001)\n",
    "\n",
    "for epoch in range(1, 10):\n",
    "    train( model, device, train_loader, optimizer, epoch)\n",
    "    test( model, device, test_loader)\n"
   ]
  },
  {
   "cell_type": "code",
   "execution_count": 51,
   "metadata": {},
   "outputs": [],
   "source": [
    "for x,y in train_loader:\n",
    "    break"
   ]
  },
  {
   "cell_type": "code",
   "execution_count": 55,
   "metadata": {},
   "outputs": [],
   "source": [
    "pred = model(x)"
   ]
  },
  {
   "cell_type": "code",
   "execution_count": 56,
   "metadata": {},
   "outputs": [],
   "source": [
    "pred_np = np.array(pred.reshape(-1).detach())\n",
    "y_np =  np.array(y)"
   ]
  },
  {
   "cell_type": "code",
   "execution_count": 57,
   "metadata": {},
   "outputs": [],
   "source": [
    "import matplotlib.pyplot as plt\n"
   ]
  },
  {
   "cell_type": "code",
   "execution_count": 58,
   "metadata": {},
   "outputs": [
    {
     "data": {
      "image/png": "[encoded data removed]",
      "text/plain": [
       "<matplotlib.figure.Figure at 0x17d32d08ac8>"
      ]
     },
     "metadata": {},
     "output_type": "display_data"
    }
   ],
   "source": [
    "plt.plot(pred_np[:20])\n",
    "plt.plot(y_np[:20])\n",
    "plt.show()"
   ]
  },
  {
   "cell_type": "code",
   "execution_count": 59,
   "metadata": {},
   "outputs": [
    {
     "data": {
      "text/plain": [
       "[<matplotlib.lines.Line2D at 0x17d36d8d358>]"
      ]
     },
     "execution_count": 59,
     "metadata": {},
     "output_type": "execute_result"
    },
    {
     "data": {
      "image/png": "[encoded data removed]",
      "text/plain": [
       "<matplotlib.figure.Figure at 0x17d32da9518>"
      ]
     },
     "metadata": {},
     "output_type": "display_data"
    }
   ],
   "source": [
    "\n",
    "plt.plot(y_np, pred_np, 'p')"
   ]
  },
  {
   "cell_type": "code",
   "execution_count": 110,
   "metadata": {},
   "outputs": [],
   "source": [
    "valid_data = Imaged_data_set(path, filtered = condition)"
   ]
  },
  {
   "cell_type": "code",
   "execution_count": 111,
   "metadata": {},
   "outputs": [],
   "source": [
    "intensity = np.zeros(len(valid_data))\n",
    "phases = np.zeros(len(valid_data))"
   ]
  },
  {
   "cell_type": "code",
   "execution_count": 112,
   "metadata": {},
   "outputs": [],
   "source": [
    "for i in range(len(valid_data)):\n",
    "    intensity[i] = valid_data[i][0].mean()\n",
    "    phases[i] = valid_data[i][1] "
   ]
  },
  {
   "cell_type": "code",
   "execution_count": 113,
   "metadata": {},
   "outputs": [
    {
     "data": {
      "text/plain": [
       "[<matplotlib.lines.Line2D at 0x17d382b9eb8>]"
      ]
     },
     "execution_count": 113,
     "metadata": {},
     "output_type": "execute_result"
    },
    {
     "data": {
      "image/png": "[encoded data removed]",
      "text/plain": [
       "<matplotlib.figure.Figure at 0x17d3702a668>"
      ]
     },
     "metadata": {},
     "output_type": "display_data"
    }
   ],
   "source": [
    "plt.plot(phases, intensity)"
   ]
  },
  {
   "cell_type": "code",
   "execution_count": 84,
   "metadata": {},
   "outputs": [],
   "source": [
    "path1 = Path(r'C:\\Users\\ЛФКИТ-3\\Documents\\quantTechLab\\data')"
   ]
  },
  {
   "cell_type": "code",
   "execution_count": 85,
   "metadata": {},
   "outputs": [],
   "source": [
    "save_to=path1/\"inten.csv\"\n",
    "save_phases_to=path1/\"pases.csv\""
   ]
  },
  {
   "cell_type": "code",
   "execution_count": 87,
   "metadata": {},
   "outputs": [
    {
     "name": "stdout",
     "output_type": "stream",
     "text": [
      "saved to C:\\Users\\ЛФКИТ-3\\Documents\\quantTechLab\\data\\inten.csv\n",
      "saved to C:\\Users\\ЛФКИТ-3\\Documents\\quantTechLab\\data\\pases.csv\n"
     ]
    }
   ],
   "source": [
    "\n",
    "data = intensity\n",
    "np.savetxt(save_to,data,delimiter=',',fmt='%10.5f')\n",
    "print (\"saved to %s\"%save_to)\n",
    "\n",
    "\n",
    "data = phases\n",
    "np.savetxt(save_phases_to,data,delimiter=',',fmt='%10.5f')\n",
    "print (\"saved to %s\"%save_phases_to)"
   ]
  },
  {
   "cell_type": "code",
   "execution_count": null,
   "metadata": {},
   "outputs": [],
   "source": []
  }
 ],
 "metadata": {
  "kernelspec": {
   "display_name": "Python 3",
   "language": "python",
   "name": "python3"
  },
  "language_info": {
   "codemirror_mode": {
    "name": "ipython",
    "version": 3
   },
   "file_extension": ".py",
   "mimetype": "text/x-python",
   "name": "python",
   "nbconvert_exporter": "python",
   "pygments_lexer": "ipython3",
   "version": "3.7.2"
  }
 },
 "nbformat": 4,
 "nbformat_minor": 2
}
