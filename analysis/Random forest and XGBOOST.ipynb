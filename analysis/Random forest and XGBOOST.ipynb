{
 "cells": [
  {
   "cell_type": "code",
   "execution_count": 67,
   "metadata": {},
   "outputs": [],
   "source": [
    "import os\n",
    "import numpy as np\n",
    "from pathlib import Path\n",
    "import imageio\n",
    "import random\n",
    "from sklearn.decomposition import PCA\n",
    "from matplotlib import pyplot as plt"
   ]
  },
  {
   "cell_type": "code",
   "execution_count": 68,
   "metadata": {},
   "outputs": [],
   "source": [
    "class FolderImageDataset():\n",
    "    def __init__(self, paths,\n",
    "                 filtered = None, names = None, N_COMPONENTS = 150, pca = None):\n",
    "        \"\"\"\n",
    "        Reads images from folder and optionally applies a transform to them.\n",
    "        Filter parameter takes target value and returns bool\n",
    "\n",
    "        Parameters\n",
    "        ----------\n",
    "        folder : str\n",
    "        start: float\n",
    "            rel index of start. float from 0 to 1.\n",
    "        end: float\n",
    "            rel index of end. float from 0 to 1.\n",
    "        transfrom : callable\n",
    "            lazily apply transform to image.\n",
    "        filtered: callable\n",
    "            float ->  bool. filters the dataset based on target\n",
    "        \"\"\"\n",
    "        \n",
    "        \n",
    "        self.names = names\n",
    "        self.paths = paths\n",
    "        self.N_COMPONENTS = N_COMPONENTS\n",
    "    \n",
    "        \n",
    "        self.images = []\n",
    "        self.target = []\n",
    "        if pca:\n",
    "            self.pcas = pca\n",
    "            index = 0\n",
    "        else:\n",
    "            index = None\n",
    "            self.pcas = []\n",
    "        \n",
    "        for path, names in zip(self.paths, self.names):\n",
    "            target, images, pca_0 = self.get_pca_of_images(self.N_COMPONENTS, names, path, filtered = filtered, pca = index)\n",
    "            self.target.append(target)\n",
    "            self.images.append(images)\n",
    "            if not pca:\n",
    "                self.pcas.append(pca_0)\n",
    "            else :\n",
    "                index += 1\n",
    "        i = 0\n",
    "        \n",
    "        for target, images in zip(self.target, self.images):\n",
    "            self.target[i], self.images[i] = self.get_average_data(target, images)\n",
    "            i += 1\n",
    "            \n",
    "            \n",
    "        new_target = self.make_final_target(self.target)\n",
    "        new_images = np.zeros((len(new_target), len(self.target)*self.N_COMPONENTS))\n",
    "        idxs = np.zeros(len(self.target), dtype = int)\n",
    "        for i, phase in enumerate(new_target):\n",
    "            im, idxs = self.join_images(self.target, self.images, idxs, phase)\n",
    "            new_images[i] = im\n",
    "        self.target = new_target\n",
    "        self.images = new_images\n",
    "        \n",
    "        \n",
    " \n",
    "    def __len__(self):\n",
    "        return  len(self.target)\n",
    "    \n",
    "    \n",
    "    def get_pca_of_images(self,N_COMPONENTS, names, path, filtered = None, pca = None):\n",
    "        images = []\n",
    "        target = []\n",
    "        for item in names:\n",
    "            images.append(np.array(imageio.imread(str(path/item))))\n",
    "            target.append(float(item.split(\"_\")[1]))\n",
    "        images = np.array(images)\n",
    "        target = np.array(target)\n",
    "        \n",
    "        # filter the images\n",
    "        if filtered:\n",
    "            images = images[filtered(target)]\n",
    "            target = target[filtered(target)]\n",
    "        if not pca:\n",
    "            pca = PCA(N_COMPONENTS)\n",
    "            pca.fit(self.data_transform(images))\n",
    "        else:\n",
    "            pca = self.pcas[pca]\n",
    "        images = np.array(pca.transform(self.data_transform(images)), dtype = float)\n",
    "        return target, images, pca\n",
    "    \n",
    "    def data_transform(self, images):\n",
    "        return np.array(images).reshape(len(images), -1)  \n",
    "    \n",
    "    def print_target_statistic(self):\n",
    "        print(f\"MEAN = {self.target.mean()} \\t MSE = {self.target.std()**2} \\t SIGMA = {self.target.std()}\")\n",
    "        \n",
    "    def get_items(self,target, images, idx):\n",
    "        a = target[idx]\n",
    "        b = np.zeros(len(images[idx]))\n",
    "        cnt = 0\n",
    "        while idx+cnt < len(target) and target[idx+cnt] == a :\n",
    "            b += images[idx+cnt]\n",
    "            cnt += 1\n",
    "        b = b/cnt\n",
    "        return a, b, idx+cnt\n",
    "        \n",
    "    def get_average_data(self, target, images):\n",
    "        new_target = []\n",
    "        new_images = []\n",
    "        idx = 0\n",
    "        while idx < len(target):\n",
    "            a, b, idx = self.get_items(target, images, idx)\n",
    "            new_target.append(a)\n",
    "            new_images.append(b)\n",
    "        return np.array(new_target), np.array(new_images)\n",
    "    \n",
    "    def join_images(self, target, images, idxs, phase):\n",
    "        result = []\n",
    "        for i, item in enumerate(target):\n",
    "            while True:\n",
    "                if idxs[i] >= len(item):\n",
    "                    idxs[i] = 0\n",
    "                \n",
    "                if item[idxs[i]] != phase:\n",
    "                    idxs[i] += 1\n",
    "                else:\n",
    "                    break\n",
    "            result.append(images[i][idxs[i]])\n",
    "        result = np.array(result).flatten()\n",
    "        \n",
    "        return result, idxs\n",
    "    \n",
    "    \n",
    "    \n",
    "    \n",
    "    def make_final_target(self, target):\n",
    "        minimum = np.array([item[0] for item in target]).min()\n",
    "        lenths = np.array([len(item) for item in target]).min()\n",
    "        result = np.array(target[np.where(lenths == lenths.min())[0][0]])\n",
    "        result = result[np.where(result == minimum)[0][0]:]\n",
    "        return result\n",
    "        "
   ]
  },
  {
   "cell_type": "markdown",
   "metadata": {},
   "source": [
    "# Get Data\n"
   ]
  },
  {
   "cell_type": "code",
   "execution_count": 69,
   "metadata": {},
   "outputs": [],
   "source": [
    "def split(names, shuffle = False, test_size = 0.2, start = 0, end = 1):\n",
    "    names = np.array(names)\n",
    "    idx = np.linspace(start*(len(names)-1),end*(len(names)-1), len(names), dtype = int)\n",
    "    if shuffle:\n",
    "        random.shuffle(idx)\n",
    "\n",
    "    return names[idx[:int((1-test_size)*len(idx))]], names[idx[:int((test_size)*len(idx))]]\n",
    "\n",
    "def get_valid_names(path):\n",
    "    names = os.listdir(path)\n",
    "\n",
    "    need = lambda x: \".png\" in x\n",
    "    names = list(filter(need, names))\n",
    "\n",
    "    names.sort(key= lambda x: int(x.split(\"_\")[0]))\n",
    "\n",
    "    k = 0\n",
    "\n",
    "    for i in range(len(names)):\n",
    "        if names[i+1].split(\"_\")[1] < names[i].split(\"_\")[1]:\n",
    "            k = i\n",
    "            break\n",
    "\n",
    "    names = names[k+1:]\n",
    "    for i in range(len(names)-1, 0, -1):\n",
    "        if names[i-1].split(\"_\")[1] > names[i].split(\"_\")[1]:\n",
    "            k = i\n",
    "            break\n",
    "\n",
    "    names = names[:k-1]\n",
    "    return names\n",
    "\n",
    "def train_test(paths, N_COMPONENTS, filtered = None, \n",
    "               start = 0, end = 1, shuffle = False, test_size = 0.2):\n",
    "    \n",
    "    names = []\n",
    "    for path in paths:\n",
    "        names.append(get_valid_names(path))\n",
    "\n",
    "    names = np.array(names)\n",
    "    train_names = []\n",
    "    test_names = []\n",
    "\n",
    "    for item in names:\n",
    "        train, test = split(item, start = start, end = end, shuffle = shuffle, test_size = test_size)\n",
    "        train_names.append(train)\n",
    "        test_names.append(test)\n",
    "\n",
    "    train_dataset = FolderImageDataset(paths, filtered = filtered, \n",
    "                                       names = train_names, N_COMPONENTS = N_COMPONENTS) \n",
    "    test_dataset = FolderImageDataset(paths, filtered = filtered, \n",
    "                                       names = test_names, N_COMPONENTS = N_COMPONENTS, pca = train_dataset.pcas)\n",
    "    \n",
    "    return train_dataset, test_dataset"
   ]
  },
  {
   "cell_type": "code",
   "execution_count": 70,
   "metadata": {},
   "outputs": [],
   "source": [
    "def condition(a):\n",
    "    # based on dataset inspection plots\n",
    "    return (0.120 > a) & (a > 0.105)"
   ]
  },
  {
   "cell_type": "code",
   "execution_count": 71,
   "metadata": {},
   "outputs": [],
   "source": [
    "N_COMPONENTS = 50;\n",
    "paths = [\n",
    "    Path(\"img5_stripes/2/\"),\n",
    "    Path(\"img5_stripes/3/\"),\n",
    "      Path(\"img4_stripes/\")\n",
    "]"
   ]
  },
  {
   "cell_type": "code",
   "execution_count": 72,
   "metadata": {},
   "outputs": [],
   "source": [
    "train_dataset, test_dataset = train_test(paths, N_COMPONENTS, filtered = condition) \n"
   ]
  },
  {
   "cell_type": "markdown",
   "metadata": {},
   "source": [
    "# Random Forest and Ensamble"
   ]
  },
  {
   "cell_type": "code",
   "execution_count": 49,
   "metadata": {},
   "outputs": [
    {
     "name": "stdout",
     "output_type": "stream",
     "text": [
      "Populating the interactive namespace from numpy and matplotlib\n"
     ]
    }
   ],
   "source": [
    "import sklearn\n",
    "import numpy as np\n",
    "import pandas as pd\n",
    "from sklearn import datasets\n",
    "from sklearn.model_selection import cross_val_score, learning_curve\n",
    "from sklearn import tree\n",
    "from sklearn import ensemble\n",
    "from matplotlib import pylab\n",
    "%pylab inline"
   ]
  },
  {
   "cell_type": "code",
   "execution_count": 31,
   "metadata": {},
   "outputs": [],
   "source": [
    "random_forest = tree.DecisionTreeRegressor()"
   ]
  },
  {
   "cell_type": "code",
   "execution_count": 32,
   "metadata": {},
   "outputs": [],
   "source": [
    "cross_score_ans_1 = cross_val_score(random_forest, train_dataset.images, train_dataset.target, cv = 10)"
   ]
  },
  {
   "cell_type": "code",
   "execution_count": 33,
   "metadata": {},
   "outputs": [
    {
     "data": {
      "text/plain": [
       "0.9315612646669298"
      ]
     },
     "execution_count": 33,
     "metadata": {},
     "output_type": "execute_result"
    }
   ],
   "source": [
    "cross_score_ans_1.mean()"
   ]
  },
  {
   "cell_type": "code",
   "execution_count": 34,
   "metadata": {},
   "outputs": [
    {
     "data": {
      "text/plain": [
       "array([0.66719831, 0.9267071 , 0.9970599 , 0.99733813, 0.83144778,\n",
       "       0.99690614, 0.99693716, 0.93821126, 0.9680399 , 0.99576698])"
      ]
     },
     "execution_count": 34,
     "metadata": {},
     "output_type": "execute_result"
    }
   ],
   "source": [
    "cross_score_ans_1"
   ]
  },
  {
   "cell_type": "code",
   "execution_count": 35,
   "metadata": {},
   "outputs": [],
   "source": [
    "random_forest_2 = ensemble.BaggingRegressor(random_forest, n_estimators = 100)"
   ]
  },
  {
   "cell_type": "code",
   "execution_count": 36,
   "metadata": {},
   "outputs": [],
   "source": [
    "cross_score_ans_2 = cross_val_score(random_forest_2, train_dataset.images, train_dataset.target, cv = 10)"
   ]
  },
  {
   "cell_type": "code",
   "execution_count": 37,
   "metadata": {},
   "outputs": [
    {
     "data": {
      "text/plain": [
       "array([0.79071405, 0.97931094, 0.99794856, 0.99784359, 0.98861662,\n",
       "       0.99725249, 0.98646196, 0.93231003, 0.89109489, 0.99218106])"
      ]
     },
     "execution_count": 37,
     "metadata": {},
     "output_type": "execute_result"
    }
   ],
   "source": [
    "cross_score_ans_2"
   ]
  },
  {
   "cell_type": "code",
   "execution_count": 38,
   "metadata": {},
   "outputs": [
    {
     "data": {
      "text/plain": [
       "0.955373420123464"
      ]
     },
     "execution_count": 38,
     "metadata": {},
     "output_type": "execute_result"
    }
   ],
   "source": [
    "cross_score_ans_2.mean()"
   ]
  },
  {
   "cell_type": "code",
   "execution_count": 44,
   "metadata": {},
   "outputs": [
    {
     "data": {
      "text/plain": [
       "0.9792614335881821"
      ]
     },
     "execution_count": 44,
     "metadata": {},
     "output_type": "execute_result"
    }
   ],
   "source": [
    "random_forest_3 = ensemble.BaggingRegressor(random_forest, n_estimators = 100, max_features = 50)\n",
    "cross_score_ans_3 = cross_val_score(random_forest_3, train_dataset.images, train_dataset.target, cv = 10)\n",
    "cross_score_ans_3.mean()"
   ]
  },
  {
   "cell_type": "code",
   "execution_count": 45,
   "metadata": {},
   "outputs": [
    {
     "data": {
      "text/plain": [
       "array([0.92882182, 0.99548348, 0.9915339 , 0.99539277, 0.98818103,\n",
       "       0.99536306, 0.97917168, 0.96178795, 0.96712745, 0.98975119])"
      ]
     },
     "execution_count": 45,
     "metadata": {},
     "output_type": "execute_result"
    }
   ],
   "source": [
    "cross_score_ans_3"
   ]
  },
  {
   "cell_type": "code",
   "execution_count": 54,
   "metadata": {},
   "outputs": [
    {
     "data": {
      "text/plain": [
       "<matplotlib.legend.Legend at 0x1a1e99a860>"
      ]
     },
     "execution_count": 54,
     "metadata": {},
     "output_type": "execute_result"
    },
    {
     "data": {
      "image/png": "[encoded data removed]",
      "text/plain": [
       "<Figure size 432x288 with 1 Axes>"
      ]
     },
     "metadata": {
      "needs_background": "light"
     },
     "output_type": "display_data"
    }
   ],
   "source": [
    "rf_regressor_low_depth = ensemble.RandomForestRegressor(n_estimators = 100, max_depth = 10)\n",
    "\n",
    "train_sizes, train_scores, test_scores = learning_curve(rf_regressor_low_depth, train_dataset.images, train_dataset.target, \n",
    "                                                                       train_sizes=np.arange(0.1,1., 0.2), \n",
    "                                                                       cv=3, scoring='r2')\n",
    "\n",
    "pylab.grid(True)\n",
    "pylab.plot(train_sizes, train_scores.mean(axis = 1), 'g-', marker='o', label='train')\n",
    "pylab.plot(train_sizes, test_scores.mean(axis = 1), 'r-', marker='o', label='test')\n",
    "\n",
    "pylab.legend(loc='lower right')"
   ]
  },
  {
   "cell_type": "code",
   "execution_count": 73,
   "metadata": {},
   "outputs": [
    {
     "data": {
      "text/plain": [
       "<matplotlib.legend.Legend at 0x1a1b861ba8>"
      ]
     },
     "execution_count": 73,
     "metadata": {},
     "output_type": "execute_result"
    },
    {
     "data": {
      "image/png": "[encoded data removed]",
      "text/plain": [
       "<Figure size 432x288 with 1 Axes>"
      ]
     },
     "metadata": {
      "needs_background": "light"
     },
     "output_type": "display_data"
    }
   ],
   "source": [
    "n_est = [i for i in range(1, 100, 5)]\n",
    "err_ot_n = []\n",
    "for i in range(1, 100, 5):\n",
    "    rf_regressor_low_depth = ensemble.RandomForestRegressor(n_estimators = i, max_depth = 10)\n",
    "    err_ot_n.append(cross_val_score(rf_regressor_low_depth, train_dataset.images, train_dataset.target, cv = 10).mean())\n",
    "pylab.grid(True)\n",
    "pylab.plot(n_est, err_ot_n, 'r-', marker='o', label='test')\n",
    "pylab.ylim((0, 1.05))\n",
    "pylab.legend(loc='lower right')"
   ]
  },
  {
   "cell_type": "code",
   "execution_count": 74,
   "metadata": {},
   "outputs": [
    {
     "data": {
      "text/plain": [
       "<matplotlib.legend.Legend at 0x1a224ade48>"
      ]
     },
     "execution_count": 74,
     "metadata": {},
     "output_type": "execute_result"
    },
    {
     "data": {
      "image/png": "[encoded data removed]",
      "text/plain": [
       "<Figure size 432x288 with 1 Axes>"
      ]
     },
     "metadata": {
      "needs_background": "light"
     },
     "output_type": "display_data"
    }
   ],
   "source": [
    "n_est = [i for i in range(1, 64, 2)]\n",
    "err_ot_n = []\n",
    "for i in range(1, 64, 2):\n",
    "    rf_regressor_low_depth = ensemble.RandomForestRegressor(n_estimators = 10, max_depth = i)\n",
    "    err_ot_n.append(cross_val_score(rf_regressor_low_depth,train_dataset.images, train_dataset.target, cv = 10).mean())\n",
    "pylab.grid(True)\n",
    "pylab.plot(n_est, err_ot_n, 'r-', marker='o', label='test')\n",
    "pylab.ylim((0, 1.05))\n",
    "pylab.legend(loc='lower right')"
   ]
  },
  {
   "cell_type": "code",
   "execution_count": 75,
   "metadata": {},
   "outputs": [
    {
     "data": {
      "text/plain": [
       "<matplotlib.legend.Legend at 0x1a22590cf8>"
      ]
     },
     "execution_count": 75,
     "metadata": {},
     "output_type": "execute_result"
    },
    {
     "data": {
      "image/png": "[encoded data removed]",
      "text/plain": [
       "<Figure size 432x288 with 1 Axes>"
      ]
     },
     "metadata": {
      "needs_background": "light"
     },
     "output_type": "display_data"
    }
   ],
   "source": [
    "n_est = [i for i in range(1, 64, 2)]\n",
    "err_ot_n = []\n",
    "for i in range(1, 64, 2):\n",
    "    rf_regressor_low_depth = ensemble.RandomForestRegressor(n_estimators = 40, max_depth = 40, random_state = 1, max_features = i)\n",
    "    err_ot_n.append(cross_val_score(rf_regressor_low_depth,train_dataset.images, train_dataset.target, cv = 10).mean())\n",
    "pylab.grid(True)\n",
    "pylab.plot(n_est, err_ot_n, 'r-', marker='o', label='test')\n",
    "pylab.ylim((0.8, 1.05))\n",
    "pylab.legend(loc='lower right')"
   ]
  },
  {
   "cell_type": "code",
   "execution_count": 122,
   "metadata": {},
   "outputs": [],
   "source": [
    "rf_regressor_low_depth = ensemble.RandomForestRegressor(n_estimators = 100, max_depth = 150, max_features = 100)"
   ]
  },
  {
   "cell_type": "code",
   "execution_count": 123,
   "metadata": {},
   "outputs": [
    {
     "data": {
      "text/plain": [
       "RandomForestRegressor(bootstrap=True, criterion='mse', max_depth=150,\n",
       "                      max_features=100, max_leaf_nodes=None,\n",
       "                      min_impurity_decrease=0.0, min_impurity_split=None,\n",
       "                      min_samples_leaf=1, min_samples_split=2,\n",
       "                      min_weight_fraction_leaf=0.0, n_estimators=100,\n",
       "                      n_jobs=None, oob_score=False, random_state=None,\n",
       "                      verbose=0, warm_start=False)"
      ]
     },
     "execution_count": 123,
     "metadata": {},
     "output_type": "execute_result"
    }
   ],
   "source": [
    "rf_regressor_low_depth.fit(train_dataset.images, train_dataset.target)"
   ]
  },
  {
   "cell_type": "code",
   "execution_count": 124,
   "metadata": {},
   "outputs": [],
   "source": [
    "predicted = rf_regressor_low_depth.predict(test_dataset.images)"
   ]
  },
  {
   "cell_type": "code",
   "execution_count": 125,
   "metadata": {},
   "outputs": [
    {
     "data": {
      "text/plain": [
       "<matplotlib.legend.Legend at 0x1a1edb9080>"
      ]
     },
     "execution_count": 125,
     "metadata": {},
     "output_type": "execute_result"
    },
    {
     "data": {
      "image/png": "[encoded data removed]",
      "text/plain": [
       "<Figure size 1080x720 with 1 Axes>"
      ]
     },
     "metadata": {
      "needs_background": "light"
     },
     "output_type": "display_data"
    }
   ],
   "source": [
    "fig = plt.figure(figsize = (15, 10))\n",
    "plt.plot(test_dataset.target, predicted, \"p\", label = \"Random_forest\")\n",
    "plt.plot(test_dataset.target, test_dataset.target, label = \"Perfect\")\n",
    "# plt.plot(y_np, pred_np, '+', label = \"Machine Learning\") \n",
    "plt.title(\"Machine learning on 2 cameras, Classic on 3 cameras with averaging in machine learning\")\n",
    "plt.legend()"
   ]
  },
  {
   "cell_type": "markdown",
   "metadata": {},
   "source": [
    "# XGBOOST"
   ]
  },
  {
   "cell_type": "code",
   "execution_count": 128,
   "metadata": {},
   "outputs": [],
   "source": [
    "from sklearn import ensemble , metrics \n",
    "from sklearn.model_selection import cross_val_score, learning_curve\n",
    "import numpy as np\n",
    "import pandas as pd\n",
    "import xgboost as xgb"
   ]
  },
  {
   "cell_type": "code",
   "execution_count": 131,
   "metadata": {},
   "outputs": [
    {
     "name": "stdout",
     "output_type": "stream",
     "text": [
      "CPU times: user 11.9 s, sys: 10.4 ms, total: 11.9 s\n",
      "Wall time: 11.9 s\n"
     ]
    }
   ],
   "source": [
    "%%time\n",
    "n_trees = [1] + [i for i in range(10, 55, 5)] \n",
    "\n",
    "scoring = []\n",
    "for n_tree in n_trees:\n",
    "    estimator = ensemble.RandomForestRegressor(n_estimators = n_tree, min_samples_split=5)\n",
    "    score = cross_val_score(estimator, train_dataset.images, train_dataset.target, \n",
    "                                             scoring = \"r2\", cv = 3)    \n",
    "    scoring.append(score)\n",
    "scoring = np.asmatrix(scoring)"
   ]
  },
  {
   "cell_type": "code",
   "execution_count": 132,
   "metadata": {},
   "outputs": [
    {
     "data": {
      "text/plain": [
       "matrix([[0.78022901, 0.5539474 , 0.77705754],\n",
       "        [0.92108054, 0.9775862 , 0.76790093],\n",
       "        [0.90790905, 0.9796997 , 0.77292549],\n",
       "        [0.94278362, 0.9768282 , 0.81498494],\n",
       "        [0.92196847, 0.97077308, 0.80396471],\n",
       "        [0.91791955, 0.96831977, 0.81739827],\n",
       "        [0.92414163, 0.97441304, 0.81135322],\n",
       "        [0.93332077, 0.98013944, 0.81291742],\n",
       "        [0.91982854, 0.97494173, 0.811765  ],\n",
       "        [0.9392939 , 0.96611515, 0.80043835]])"
      ]
     },
     "execution_count": 132,
     "metadata": {},
     "output_type": "execute_result"
    }
   ],
   "source": [
    "scoring"
   ]
  },
  {
   "cell_type": "code",
   "execution_count": 133,
   "metadata": {},
   "outputs": [
    {
     "data": {
      "text/plain": [
       "<matplotlib.legend.Legend at 0x1a29431390>"
      ]
     },
     "execution_count": 133,
     "metadata": {},
     "output_type": "execute_result"
    },
    {
     "data": {
      "image/png": "[encoded data removed]",
      "text/plain": [
       "<Figure size 432x288 with 1 Axes>"
      ]
     },
     "metadata": {
      "needs_background": "light"
     },
     "output_type": "display_data"
    }
   ],
   "source": [
    "pylab.plot(n_trees, scoring.mean(axis = 1), marker='.', label='RandomForest')\n",
    "pylab.grid(True)\n",
    "pylab.xlabel('n_trees')\n",
    "pylab.ylabel('score')\n",
    "pylab.title('Accuracy score')\n",
    "pylab.legend(loc='lower right')"
   ]
  },
  {
   "cell_type": "code",
   "execution_count": 140,
   "metadata": {},
   "outputs": [
    {
     "name": "stdout",
     "output_type": "stream",
     "text": [
      "[03:23:59] WARNING: src/objective/regression_obj.cu:152: reg:linear is now deprecated in favor of reg:squarederror.\n",
      "[03:23:59] WARNING: src/objective/regression_obj.cu:152: reg:linear is now deprecated in favor of reg:squarederror.\n",
      "[03:23:59] WARNING: src/objective/regression_obj.cu:152: reg:linear is now deprecated in favor of reg:squarederror.\n",
      "[03:23:59] WARNING: src/objective/regression_obj.cu:152: reg:linear is now deprecated in favor of reg:squarederror.\n",
      "[03:23:59] WARNING: src/objective/regression_obj.cu:152: reg:linear is now deprecated in favor of reg:squarederror.\n",
      "[03:23:59] WARNING: src/objective/regression_obj.cu:152: reg:linear is now deprecated in favor of reg:squarederror.\n",
      "[03:23:59] WARNING: src/objective/regression_obj.cu:152: reg:linear is now deprecated in favor of reg:squarederror.\n",
      "[03:23:59] WARNING: src/objective/regression_obj.cu:152: reg:linear is now deprecated in favor of reg:squarederror.\n",
      "[03:23:59] WARNING: src/objective/regression_obj.cu:152: reg:linear is now deprecated in favor of reg:squarederror.\n",
      "[03:23:59] WARNING: src/objective/regression_obj.cu:152: reg:linear is now deprecated in favor of reg:squarederror.\n",
      "[03:24:00] WARNING: src/objective/regression_obj.cu:152: reg:linear is now deprecated in favor of reg:squarederror.\n",
      "[03:24:00] WARNING: src/objective/regression_obj.cu:152: reg:linear is now deprecated in favor of reg:squarederror.\n",
      "[03:24:00] WARNING: src/objective/regression_obj.cu:152: reg:linear is now deprecated in favor of reg:squarederror.\n",
      "[03:24:00] WARNING: src/objective/regression_obj.cu:152: reg:linear is now deprecated in favor of reg:squarederror.\n",
      "[03:24:00] WARNING: src/objective/regression_obj.cu:152: reg:linear is now deprecated in favor of reg:squarederror.\n",
      "[03:24:00] WARNING: src/objective/regression_obj.cu:152: reg:linear is now deprecated in favor of reg:squarederror.\n",
      "[03:24:00] WARNING: src/objective/regression_obj.cu:152: reg:linear is now deprecated in favor of reg:squarederror.\n",
      "[03:24:00] WARNING: src/objective/regression_obj.cu:152: reg:linear is now deprecated in favor of reg:squarederror.\n",
      "[03:24:00] WARNING: src/objective/regression_obj.cu:152: reg:linear is now deprecated in favor of reg:squarederror.\n",
      "[03:24:00] WARNING: src/objective/regression_obj.cu:152: reg:linear is now deprecated in favor of reg:squarederror.\n",
      "[03:24:00] WARNING: src/objective/regression_obj.cu:152: reg:linear is now deprecated in favor of reg:squarederror.\n",
      "[03:24:00] WARNING: src/objective/regression_obj.cu:152: reg:linear is now deprecated in favor of reg:squarederror.\n",
      "[03:24:01] WARNING: src/objective/regression_obj.cu:152: reg:linear is now deprecated in favor of reg:squarederror.\n",
      "[03:24:01] WARNING: src/objective/regression_obj.cu:152: reg:linear is now deprecated in favor of reg:squarederror.\n",
      "[03:24:01] WARNING: src/objective/regression_obj.cu:152: reg:linear is now deprecated in favor of reg:squarederror.\n",
      "[03:24:01] WARNING: src/objective/regression_obj.cu:152: reg:linear is now deprecated in favor of reg:squarederror.\n",
      "[03:24:01] WARNING: src/objective/regression_obj.cu:152: reg:linear is now deprecated in favor of reg:squarederror.\n",
      "[03:24:01] WARNING: src/objective/regression_obj.cu:152: reg:linear is now deprecated in favor of reg:squarederror.\n",
      "[03:24:01] WARNING: src/objective/regression_obj.cu:152: reg:linear is now deprecated in favor of reg:squarederror.\n",
      "[03:24:02] WARNING: src/objective/regression_obj.cu:152: reg:linear is now deprecated in favor of reg:squarederror.\n",
      "CPU times: user 2.55 s, sys: 8.06 ms, total: 2.56 s\n",
      "Wall time: 2.55 s\n"
     ]
    }
   ],
   "source": [
    "%%time\n",
    "xgb_scoring = []\n",
    "for n_tree in n_trees:\n",
    "    estimator = xgb.XGBRegressor(learning_rate=1, max_depth=5, n_estimators=n_tree, min_child_weight=3)\n",
    "    score = cross_val_score(estimator, train_dataset.images, train_dataset.target, \n",
    "                                             scoring = 'r2', cv = 3)    \n",
    "    xgb_scoring.append(score)\n",
    "xgb_scoring = np.asmatrix(xgb_scoring)"
   ]
  },
  {
   "cell_type": "code",
   "execution_count": 141,
   "metadata": {},
   "outputs": [
    {
     "data": {
      "text/plain": [
       "matrix([[-0.06995292, -0.00347066, -0.04650664],\n",
       "        [ 0.89422266,  0.98713141,  0.68293662],\n",
       "        [ 0.89422266,  0.98713141,  0.68293662],\n",
       "        [ 0.89422266,  0.98713141,  0.68293662],\n",
       "        [ 0.89422266,  0.98713141,  0.68293662],\n",
       "        [ 0.89422266,  0.98713141,  0.68293662],\n",
       "        [ 0.89422266,  0.98713141,  0.68293662],\n",
       "        [ 0.89422266,  0.98713141,  0.68293662],\n",
       "        [ 0.89422266,  0.98713141,  0.68293662],\n",
       "        [ 0.89422266,  0.98713141,  0.68293662]])"
      ]
     },
     "execution_count": 141,
     "metadata": {},
     "output_type": "execute_result"
    }
   ],
   "source": [
    "xgb_scoring"
   ]
  },
  {
   "cell_type": "code",
   "execution_count": 142,
   "metadata": {},
   "outputs": [
    {
     "data": {
      "text/plain": [
       "<matplotlib.legend.Legend at 0x1a32a0ae80>"
      ]
     },
     "execution_count": 142,
     "metadata": {},
     "output_type": "execute_result"
    },
    {
     "data": {
      "image/png": "[encoded data removed]",
      "text/plain": [
       "<Figure size 432x288 with 1 Axes>"
      ]
     },
     "metadata": {
      "needs_background": "light"
     },
     "output_type": "display_data"
    }
   ],
   "source": [
    "pylab.plot(n_trees, scoring.mean(axis = 1), marker='.', label='RandomForest')\n",
    "pylab.plot(n_trees, xgb_scoring.mean(axis = 1), marker='.', label='XGBoost')\n",
    "pylab.grid(True)\n",
    "pylab.xlabel('n_trees')\n",
    "pylab.ylabel('score')\n",
    "pylab.title('Accuracy score')\n",
    "pylab.legend(loc='lower right')"
   ]
  },
  {
   "cell_type": "code",
   "execution_count": 240,
   "metadata": {},
   "outputs": [
    {
     "name": "stdout",
     "output_type": "stream",
     "text": [
      "[03:29:56] WARNING: src/objective/regression_obj.cu:152: reg:linear is now deprecated in favor of reg:squarederror.\n"
     ]
    },
    {
     "data": {
      "text/plain": [
       "XGBRegressor(base_score=0.5, booster='gbtree', colsample_bylevel=1,\n",
       "             colsample_bynode=1, colsample_bytree=1, gamma=0,\n",
       "             importance_type='gain', learning_rate=1.01, max_delta_step=0,\n",
       "             max_depth=120, min_child_weight=5, missing=None, n_estimators=100,\n",
       "             n_jobs=1, nthread=None, objective='reg:linear', random_state=0,\n",
       "             reg_alpha=0, reg_lambda=1, scale_pos_weight=1, seed=None,\n",
       "             silent=None, subsample=1, verbosity=1)"
      ]
     },
     "execution_count": 240,
     "metadata": {},
     "output_type": "execute_result"
    }
   ],
   "source": [
    "estimator = xgb.XGBRegressor(learning_rate=1.01, max_depth=120, n_estimators=100, min_child_weight=5)\n",
    "estimator.fit(train_dataset.images, train_dataset.target)"
   ]
  },
  {
   "cell_type": "code",
   "execution_count": 241,
   "metadata": {},
   "outputs": [],
   "source": [
    "predicted = estimator.predict(test_dataset.images)"
   ]
  },
  {
   "cell_type": "code",
   "execution_count": 23,
   "metadata": {
    "scrolled": true
   },
   "outputs": [
    {
     "ename": "SyntaxError",
     "evalue": "invalid syntax (<ipython-input-23-eb8be8096802>, line 6)",
     "output_type": "error",
     "traceback": [
      "\u001b[0;36m  File \u001b[0;32m\"<ipython-input-23-eb8be8096802>\"\u001b[0;36m, line \u001b[0;32m6\u001b[0m\n\u001b[0;31m    import numpy as npplt.legend()\u001b[0m\n\u001b[0m                         ^\u001b[0m\n\u001b[0;31mSyntaxError\u001b[0m\u001b[0;31m:\u001b[0m invalid syntax\n"
     ]
    }
   ],
   "source": [
    "fig = plt.figure(figsize = (15, 10))\n",
    "plt.plot(test_dataset.target, predicted, \"p\", label = \"XGBOOST\")\n",
    "plt.plot(test_dataset.target, test_dataset.target, label = \"Perfect\")\n",
    "# plt.plot(y_np, pred_np, '+', label = \"Machine Learning\") \n",
    "plt.title(\"Machine learning on 3 cameras, Classic on 3 cameras with averaging in machine learning\")\n",
    "plt.legend()"
   ]
  },
  {
   "cell_type": "code",
   "execution_count": 24,
   "metadata": {},
   "outputs": [],
   "source": [
    "import numpy as np"
   ]
  },
  {
   "cell_type": "code",
   "execution_count": 27,
   "metadata": {},
   "outputs": [],
   "source": [
    "\n",
    "prediction = []"
   ]
  },
  {
   "cell_type": "code",
   "execution_count": 28,
   "metadata": {},
   "outputs": [],
   "source": [
    "prediction.append([1,2,3,4,5])\n",
    "prediction.append([6,7,8,9,10])\n",
    "prediction.append(np.array([11,12,13,14,15]))\n",
    "prediction.append([16,17,18,19,20])"
   ]
  },
  {
   "cell_type": "code",
   "execution_count": 29,
   "metadata": {},
   "outputs": [],
   "source": [
    "prediction = np.array(prediction)"
   ]
  },
  {
   "cell_type": "code",
   "execution_count": 32,
   "metadata": {},
   "outputs": [
    {
     "data": {
      "text/plain": [
       "array([ 1,  6, 11, 16])"
      ]
     },
     "execution_count": 32,
     "metadata": {},
     "output_type": "execute_result"
    }
   ],
   "source": [
    "prediction.T[0]"
   ]
  },
  {
   "cell_type": "code",
   "execution_count": 33,
   "metadata": {},
   "outputs": [
    {
     "ename": "SyntaxError",
     "evalue": "invalid syntax (<ipython-input-33-091dccde7483>, line 5)",
     "output_type": "error",
     "traceback": [
      "\u001b[0;36m  File \u001b[0;32m\"<ipython-input-33-091dccde7483>\"\u001b[0;36m, line \u001b[0;32m5\u001b[0m\n\u001b[0;31m    \"lr\" = [1.01, 1, 0.9, 0.8],\u001b[0m\n\u001b[0m         ^\u001b[0m\n\u001b[0;31mSyntaxError\u001b[0m\u001b[0;31m:\u001b[0m invalid syntax\n"
     ]
    }
   ],
   "source": [
    "params_tree = {\"max_size\": 1,\n",
    "               \"min_size\": 0.5,\n",
    "               \"min_features\" : 0.5,\n",
    "               \"max_features\" : 1,\n",
    "               \"lr\" = [1.01, 1, 0.9, 0.8], \n",
    "               \"max_depth\" = [120, 150, 100], \n",
    "               \"n_estimators\" = [100, 150, 50]\n",
    "}"
   ]
  },
  {
   "cell_type": "code",
   "execution_count": null,
   "metadata": {},
   "outputs": [],
   "source": []
  }
 ],
 "metadata": {
  "kernelspec": {
   "display_name": "Python 3",
   "language": "python",
   "name": "python3"
  },
  "language_info": {
   "codemirror_mode": {
    "name": "ipython",
    "version": 3
   },
   "file_extension": ".py",
   "mimetype": "text/x-python",
   "name": "python",
   "nbconvert_exporter": "python",
   "pygments_lexer": "ipython3",
   "version": "3.7.3"
  }
 },
 "nbformat": 4,
 "nbformat_minor": 2
}
