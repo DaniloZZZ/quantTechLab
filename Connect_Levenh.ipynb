{
 "cells": [
  {
   "cell_type": "code",
   "execution_count": null,
   "metadata": {},
   "outputs": [],
   "source": []
  },
  {
   "cell_type": "code",
   "execution_count": 1,
   "metadata": {},
   "outputs": [],
   "source": [
    "import numpy as np\n",
    "import matplotlib.pyplot as plt\n",
    "import os, re, time, shutil\n",
    "from PIL import Image\n",
    "\n",
    "path=\"C:\\\\Users\\\\ЛФКИТ-3\\\\Documents\\\\Interferom\\\\img\\\\seq\\\\\"\n",
    "from IPython.display import clear_output\n",
    "from IPython import display\n",
    "\n",
    "%matplotlib inline"
   ]
  },
  {
   "cell_type": "code",
   "execution_count": 2,
   "metadata": {
    "scrolled": true
   },
   "outputs": [],
   "source": [
    "shutil.rmtree(path)\n",
    "os.makedirs(path)\n",
    "\n",
    "def upd_plot(new_seq=[]):\n",
    "    display.clear_output(wait=True)\n",
    "    plt.plot(new_seq)\n",
    "    display.display(plt.show())"
   ]
  },
  {
   "cell_type": "code",
   "execution_count": 3,
   "metadata": {
    "scrolled": true
   },
   "outputs": [
    {
     "ename": "IndentationError",
     "evalue": "expected an indented block (<ipython-input-3-8fb1e238c2f5>, line 24)",
     "output_type": "error",
     "traceback": [
      "\u001b[1;36m  File \u001b[1;32m\"<ipython-input-3-8fb1e238c2f5>\"\u001b[1;36m, line \u001b[1;32m24\u001b[0m\n\u001b[1;33m    ints = np.mean(ins)\u001b[0m\n\u001b[1;37m    ^\u001b[0m\n\u001b[1;31mIndentationError\u001b[0m\u001b[1;31m:\u001b[0m expected an indented block\n"
     ]
    }
   ],
   "source": [
    "files = []\n",
    "intens = []\n",
    "stddevs=[]\n",
    "\n",
    "\n",
    "while True:\n",
    "    num=0\n",
    "    ins = []\n",
    "    for f in os.listdir(path):\n",
    "        if f not in files:\n",
    "            files.append(f)\n",
    "            num+=1\n",
    "            try:\n",
    "                img = Image.open(''.join((path,f)))\n",
    "            except PermissionError:\n",
    "                time.sleep(0.2)\n",
    "                img = Image.open(''.join((path,f)))\n",
    "            except FileNotFoundError:\n",
    "                pass\n",
    "            ins.append(np.mean(img))\n",
    "        else:\n",
    "            #os.remove(path+f)\n",
    "    #clear_output()\n",
    "    ints = np.mean(ins)\n",
    "    sdev = np.std(ins)\n",
    "    if not np.isnan(ints):\n",
    "        intens.append(ints)\n",
    "        stddevs.append(sdev)\n",
    "    print('found %i new files. total:%i. Intensity: %f, stddev %f'%\n",
    "          (num,\n",
    "           len(files),\n",
    "           ints,\n",
    "           sdev\n",
    "          ))    \n",
    "    display.clear_output(wait=True)\n",
    "    plt.plot(intens)\n",
    "    plt.fill_between(range(len(intens)), np.array(intens)+np.array(stddevs),\n",
    "                     np.array(intens)-np.array(stddevs), facecolor='yellow', alpha=0.5)\n",
    "    display.display(plt.show())\n",
    "    time.sleep(0.5)\n"
   ]
  },
  {
   "cell_type": "code",
   "execution_count": null,
   "metadata": {},
   "outputs": [],
   "source": [
    "plt.plot(intens)\n"
   ]
  },
  {
   "cell_type": "code",
   "execution_count": 43,
   "metadata": {},
   "outputs": [
    {
     "data": {
      "text/plain": [
       "False"
      ]
     },
     "execution_count": 43,
     "metadata": {},
     "output_type": "execute_result"
    }
   ],
   "source": [
    "intens[0] is np.float64"
   ]
  },
  {
   "cell_type": "code",
   "execution_count": 41,
   "metadata": {},
   "outputs": [
    {
     "data": {
      "text/plain": [
       "(nan, nan)"
      ]
     },
     "execution_count": 41,
     "metadata": {},
     "output_type": "execute_result"
    }
   ],
   "source": [
    "np.nan,intens[0]\n"
   ]
  },
  {
   "cell_type": "code",
   "execution_count": 44,
   "metadata": {},
   "outputs": [
    {
     "data": {
      "text/plain": [
       "True"
      ]
     },
     "execution_count": 44,
     "metadata": {},
     "output_type": "execute_result"
    }
   ],
   "source": [
    "np.isnan(intens[0])"
   ]
  },
  {
   "cell_type": "code",
   "execution_count": null,
   "metadata": {},
   "outputs": [],
   "source": []
  }
 ],
 "metadata": {
  "kernelspec": {
   "display_name": "Python 3",
   "language": "python",
   "name": "python3"
  },
  "language_info": {
   "codemirror_mode": {
    "name": "ipython",
    "version": 3
   },
   "file_extension": ".py",
   "mimetype": "text/x-python",
   "name": "python",
   "nbconvert_exporter": "python",
   "pygments_lexer": "ipython3",
   "version": "3.6.4"
  }
 },
 "nbformat": 4,
 "nbformat_minor": 2
}
