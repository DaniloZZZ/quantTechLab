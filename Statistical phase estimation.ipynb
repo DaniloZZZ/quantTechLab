{
 "cells": [
  {
   "cell_type": "code",
   "execution_count": 28,
   "metadata": {},
   "outputs": [],
   "source": [
    "import numpy as np\n",
    "import os\n",
    "import math\n",
    "#import cv2\n",
    "from pylab import plt\n",
    "import scipy.stats as sts"
   ]
  },
  {
   "cell_type": "code",
   "execution_count": 29,
   "metadata": {},
   "outputs": [],
   "source": [
    "a = os.listdir(\".\")\n",
    "def csv_gen(path):\n",
    "    return ( i for i in np.genfromtxt(path, delimiter=','))\n",
    "\n",
    "def fname_iter(directory):\n",
    "    return (d for d in os.listdir(directory))\n",
    "def img_iter(directory):\n",
    "    im_exts = ['png','jpg','jpeg' ]\n",
    "    for path in fname_iter(directory):\n",
    "        if path.split('.')[-1] in im_exts:\n",
    "            im = cv2.imread(path,mode='RGB')\n",
    "            yield im\n",
    "\n",
    "data_path = [\n",
    "    './data/ML_interfere_eval/seq/data_20-03-2019_18-59_portD1.csv'\n",
    "    ,'./data/ML_interfere_eval/seq/data_20-03-2019_18-59_portD2.csv'\n",
    "]"
   ]
  },
  {
   "cell_type": "code",
   "execution_count": 30,
   "metadata": {},
   "outputs": [],
   "source": [
    "def read_csv_data(filepath):\n",
    "    d = np.genfromtxt(filepath,delimiter=',')\n",
    "    return d\n",
    "\n",
    "data = [\n",
    "    read_csv_data(p) for p in data_path\n",
    "]"
   ]
  },
  {
   "cell_type": "code",
   "execution_count": 31,
   "metadata": {},
   "outputs": [
    {
     "data": {
      "text/plain": [
       "[<matplotlib.lines.Line2D at 0x1a14584550>]"
      ]
     },
     "execution_count": 31,
     "metadata": {},
     "output_type": "execute_result"
    },
    {
     "data": {
      "image/png": "[encoded data removed]",
      "text/plain": [
       "<Figure size 432x288 with 1 Axes>"
      ]
     },
     "metadata": {
      "needs_background": "light"
     },
     "output_type": "display_data"
    }
   ],
   "source": [
    "plt.plot(X_1, Y_1)"
   ]
  },
  {
   "cell_type": "code",
   "execution_count": 32,
   "metadata": {},
   "outputs": [],
   "source": [
    "X_1 = np.array([data[0][i][1] for i in range(len(data[0]))])[600:]\n",
    "X_2 = np.array([data[1][i][1] for i in range(len(data[1]))])[600:]"
   ]
  },
  {
   "cell_type": "code",
   "execution_count": 33,
   "metadata": {},
   "outputs": [],
   "source": [
    "Y_1 = np.array([data[0][i][0] for i in range(len(data[0]))])[600:]\n",
    "Y_2 = np.array([data[1][i][0] for i in range(len(data[1]))])[600:]"
   ]
  },
  {
   "cell_type": "code",
   "execution_count": 34,
   "metadata": {},
   "outputs": [],
   "source": [
    "X_1 = (X_1 - X_1[0])/(X_1[len(X_1)-1]-X_1[0])*2*3.1415\n",
    "X_2 = (X_2 - X_2[0])/(X_2[len(X_2)-1]-X_2[0])*2*3.1415"
   ]
  },
  {
   "cell_type": "code",
   "execution_count": 35,
   "metadata": {},
   "outputs": [],
   "source": [
    "def get_koef(phi, h, X, Y):\n",
    "    sigma = 0\n",
    "    mu = 0\n",
    "    n = 0\n",
    "    mu = Y[abs(X-phi)<h].mean()\n",
    "    sigma = Y[abs(X-phi)<h].std()\n",
    "    return mu, sigma"
   ]
  },
  {
   "cell_type": "code",
   "execution_count": 36,
   "metadata": {},
   "outputs": [],
   "source": [
    "def learning_proces(X_1, Y_1, X_2, Y_2, h):\n",
    "    phis = np.linspace(0, 2*3.1415, math.floor(3.1415/h))\n",
    "    mu_1 = np.zeros(len(phis))\n",
    "    sigma_1 = np.zeros(len(phis))\n",
    "    mu_2 = np.zeros(len(phis))\n",
    "    sigma_2 = np.zeros(len(phis))\n",
    "    for i in range(len(phis)):\n",
    "        mu_1[i] , sigma_1[i] = get_koef(phis[i], h, X_1, Y_1)\n",
    "        mu_2[i], sigma_2[i] = get_koef(phis[i], h, X_2, Y_2)\n",
    "    return phis, mu_1, mu_2, sigma_1, sigma_2"
   ]
  },
  {
   "cell_type": "code",
   "execution_count": 37,
   "metadata": {},
   "outputs": [],
   "source": [
    "def count_metrics(mu_1, sigma_1,mu_2, sigma_2, Y):\n",
    "    r = 0\n",
    "    for y in Y:\n",
    "        r -= float((y[0]-mu_1)**2/2/sigma_1**2)\n",
    "        r -= float((y[1]-mu_2)**2/2/sigma_2**2)\n",
    "    return float(r)"
   ]
  },
  {
   "cell_type": "code",
   "execution_count": 38,
   "metadata": {},
   "outputs": [],
   "source": [
    "def make_prediction(Y, phis, mu_1, mu_2, sigma_1, sigma_2):\n",
    "    ans = 0\n",
    "    prob = count_metrics(mu_1[0], sigma_1[0],mu_2[0], sigma_2[0], Y)\n",
    "    for i in range( len(mu_1)):\n",
    "        a = count_metrics(mu_1[i], sigma_1[i],mu_2[i], sigma_2[i], Y)\n",
    "        if a > prob:\n",
    "            ans = phis[i]\n",
    "            prob = a\n",
    "    probability = np.zeros(len(phis))\n",
    "    for i in range(len(phis)):\n",
    "        probability[i] = count_metrics(mu_1[i], sigma_1[i],mu_2[i], sigma_2[i], Y)\n",
    "    return ans, prob/len(Y), probability"
   ]
  },
  {
   "cell_type": "code",
   "execution_count": 39,
   "metadata": {
    "scrolled": true
   },
   "outputs": [
    {
     "name": "stdout",
     "output_type": "stream",
     "text": [
      "CPU times: user 5.22 ms, sys: 2.55 ms, total: 7.77 ms\n",
      "Wall time: 5.65 ms\n"
     ]
    }
   ],
   "source": [
    "%%time\n",
    "phis, mu_1, mu_2, sigma_1, sigma_2 = learning_proces(np.array(X_1), np.array(Y_1), np.array(X_2), np.array(Y_2), 0.2)"
   ]
  },
  {
   "cell_type": "code",
   "execution_count": 40,
   "metadata": {},
   "outputs": [
    {
     "data": {
      "text/plain": [
       "[<matplotlib.lines.Line2D at 0x1a1477c588>]"
      ]
     },
     "execution_count": 40,
     "metadata": {},
     "output_type": "execute_result"
    },
    {
     "data": {
      "image/png": "[encoded data removed]",
      "text/plain": [
       "<Figure size 432x288 with 2 Axes>"
      ]
     },
     "metadata": {
      "needs_background": "light"
     },
     "output_type": "display_data"
    }
   ],
   "source": [
    "\n",
    "plt.subplot(1,2,1)\n",
    "plt.plot(phis, np.array(mu_1)+np.array(sigma_1))\n",
    "plt.plot(phis, np.array(mu_1)-np.array(sigma_1))\n",
    "\n",
    "plt.subplot(1,2,2)\n",
    "\n",
    "plt.plot(phis, np.array(mu_2)+np.array(sigma_2))\n",
    "plt.plot(phis, np.array(mu_2)-np.array(sigma_2))"
   ]
  },
  {
   "cell_type": "code",
   "execution_count": 41,
   "metadata": {},
   "outputs": [
    {
     "ename": "SyntaxError",
     "evalue": "invalid syntax (<ipython-input-41-089f68866368>, line 12)",
     "output_type": "error",
     "traceback": [
      "\u001b[0;36m  File \u001b[0;32m\"<ipython-input-41-089f68866368>\"\u001b[0;36m, line \u001b[0;32m12\u001b[0m\n\u001b[0;31m    answers[i], proba, probability = make_prediction(, phis, mu_1, mu_2, sigma_1, sigma_2)\u001b[0m\n\u001b[0m                                                     ^\u001b[0m\n\u001b[0;31mSyntaxError\u001b[0m\u001b[0;31m:\u001b[0m invalid syntax\n"
     ]
    }
   ],
   "source": [
    "def make_test(n, x, model, sigma, model_1):\n",
    "    return [[float(sts.norm(model(x), sigma).rvs(1)),float(sts.norm(model_1(x), sigma).rvs(1))]  for i in range(10)]\n",
    "\n",
    "\n",
    "\n",
    "\n",
    "\n",
    "\n",
    "phi_test = np.linspace(0, 2*3.1415, 100)\n",
    "answers = np.zeros(len(phi_test))\n",
    "for i in range(len(phi_test)):\n",
    "    answers[i], proba, probability = make_prediction(, phis, mu_1, mu_2, sigma_1, sigma_2)\n",
    "plt.plot(phi_test, answers)  "
   ]
  },
  {
   "cell_type": "code",
   "execution_count": 42,
   "metadata": {},
   "outputs": [
    {
     "data": {
      "text/plain": [
       "array([12.95287984, 12.14398625, 11.51216872, 13.33783593, 13.26685747,\n",
       "       13.42936534, 12.04791567, 13.25018736, 12.29253638, 13.37809556])"
      ]
     },
     "execution_count": 42,
     "metadata": {},
     "output_type": "execute_result"
    }
   ],
   "source": [
    "sts.norm(13,1).rvs((10))"
   ]
  },
  {
   "cell_type": "code",
   "execution_count": 43,
   "metadata": {},
   "outputs": [],
   "source": [
    "Y = np.zeros((10,2))"
   ]
  },
  {
   "cell_type": "code",
   "execution_count": 44,
   "metadata": {},
   "outputs": [],
   "source": [
    "for i in range(10):\n",
    "    Y[i][0] = sts.norm(19.5,1).rvs(1)\n",
    "    Y[i][1] = sts.norm(8,1).rvs(1)"
   ]
  },
  {
   "cell_type": "code",
   "execution_count": 45,
   "metadata": {},
   "outputs": [
    {
     "data": {
      "text/plain": [
       "array([[19.57542874,  8.70870723],\n",
       "       [19.97711495,  8.65374771],\n",
       "       [19.50718231,  9.45941089],\n",
       "       [18.96767589,  7.65224892],\n",
       "       [18.24562581,  8.60415196],\n",
       "       [20.11778371,  7.25262192],\n",
       "       [19.86979531,  8.63130628],\n",
       "       [19.44315713,  8.76619114],\n",
       "       [19.73618228,  9.31999897],\n",
       "       [18.20597686,  8.15849664]])"
      ]
     },
     "execution_count": 45,
     "metadata": {},
     "output_type": "execute_result"
    }
   ],
   "source": [
    "Y"
   ]
  },
  {
   "cell_type": "code",
   "execution_count": 46,
   "metadata": {},
   "outputs": [],
   "source": [
    "ans, proba, probability = make_prediction(Y, phis, mu_1, mu_2, sigma_1, sigma_2)"
   ]
  },
  {
   "cell_type": "code",
   "execution_count": 47,
   "metadata": {},
   "outputs": [
    {
     "data": {
      "text/plain": [
       "4.039071428571429"
      ]
     },
     "execution_count": 47,
     "metadata": {},
     "output_type": "execute_result"
    }
   ],
   "source": [
    "ans"
   ]
  },
  {
   "cell_type": "code",
   "execution_count": 48,
   "metadata": {},
   "outputs": [
    {
     "data": {
      "text/plain": [
       "-0.625852913105919"
      ]
     },
     "execution_count": 48,
     "metadata": {},
     "output_type": "execute_result"
    }
   ],
   "source": [
    "proba"
   ]
  },
  {
   "cell_type": "code",
   "execution_count": 49,
   "metadata": {},
   "outputs": [
    {
     "data": {
      "text/plain": [
       "[<matplotlib.lines.Line2D at 0x1a14863160>]"
      ]
     },
     "execution_count": 49,
     "metadata": {},
     "output_type": "execute_result"
    },
    {
     "data": {
      "image/png": "[encoded data removed]",
      "text/plain": [
       "<Figure size 432x288 with 1 Axes>"
      ]
     },
     "metadata": {
      "needs_background": "light"
     },
     "output_type": "display_data"
    }
   ],
   "source": [
    "plt.plot(phis, probability)"
   ]
  },
  {
   "cell_type": "code",
   "execution_count": 50,
   "metadata": {},
   "outputs": [
    {
     "data": {
      "text/plain": [
       "0.6591411520662281"
      ]
     },
     "execution_count": 50,
     "metadata": {},
     "output_type": "execute_result"
    }
   ],
   "source": [
    "sigma_1.mean()"
   ]
  },
  {
   "cell_type": "code",
   "execution_count": 1,
   "metadata": {},
   "outputs": [],
   "source": [
    "\n",
    "from gauss_est import gauss_est"
   ]
  },
  {
   "cell_type": "code",
   "execution_count": 25,
   "metadata": {},
   "outputs": [],
   "source": [
    "X = [np.array(X_1), np.array(X_2)]\n",
    "Y = [np.array(Y_1), np.array(Y_2)]"
   ]
  },
  {
   "cell_type": "code",
   "execution_count": 26,
   "metadata": {},
   "outputs": [
    {
     "ename": "NameError",
     "evalue": "name 'gauss_est' is not defined",
     "output_type": "error",
     "traceback": [
      "\u001b[0;31m---------------------------------------------------------------------------\u001b[0m",
      "\u001b[0;31mNameError\u001b[0m                                 Traceback (most recent call last)",
      "\u001b[0;32m<ipython-input-26-5365ac0ba624>\u001b[0m in \u001b[0;36m<module>\u001b[0;34m()\u001b[0m\n\u001b[0;32m----> 1\u001b[0;31m \u001b[0mestimator\u001b[0m \u001b[0;34m=\u001b[0m \u001b[0mgauss_est\u001b[0m\u001b[0;34m(\u001b[0m\u001b[0;36m0.1\u001b[0m\u001b[0;34m)\u001b[0m\u001b[0;34m\u001b[0m\u001b[0;34m\u001b[0m\u001b[0m\n\u001b[0m",
      "\u001b[0;31mNameError\u001b[0m: name 'gauss_est' is not defined"
     ]
    }
   ],
   "source": [
    "estimator = gauss_est(0.1)"
   ]
  },
  {
   "cell_type": "code",
   "execution_count": 27,
   "metadata": {},
   "outputs": [
    {
     "ename": "NameError",
     "evalue": "name 'estimator' is not defined",
     "output_type": "error",
     "traceback": [
      "\u001b[0;31m---------------------------------------------------------------------------\u001b[0m",
      "\u001b[0;31mNameError\u001b[0m                                 Traceback (most recent call last)",
      "\u001b[0;32m<ipython-input-27-4a558b43c173>\u001b[0m in \u001b[0;36m<module>\u001b[0;34m()\u001b[0m\n\u001b[0;32m----> 1\u001b[0;31m \u001b[0mestimator\u001b[0m\u001b[0;34m.\u001b[0m\u001b[0mfit\u001b[0m\u001b[0;34m(\u001b[0m\u001b[0mX\u001b[0m\u001b[0;34m,\u001b[0m \u001b[0mY\u001b[0m\u001b[0;34m)\u001b[0m\u001b[0;34m\u001b[0m\u001b[0;34m\u001b[0m\u001b[0m\n\u001b[0m",
      "\u001b[0;31mNameError\u001b[0m: name 'estimator' is not defined"
     ]
    }
   ],
   "source": [
    "estimator.fit(X, Y)"
   ]
  },
  {
   "cell_type": "code",
   "execution_count": 28,
   "metadata": {},
   "outputs": [],
   "source": [
    "Y = []\n",
    "Y.append(sts.norm(19.5,1).rvs(10))\n",
    "Y.append(sts.norm(8,1).rvs(10))"
   ]
  },
  {
   "cell_type": "code",
   "execution_count": 29,
   "metadata": {},
   "outputs": [
    {
     "name": "stdout",
     "output_type": "stream",
     "text": [
      "2\n"
     ]
    }
   ],
   "source": [
    "ans, proba = estimator.predict(Y)"
   ]
  },
  {
   "cell_type": "code",
   "execution_count": 1,
   "metadata": {},
   "outputs": [
    {
     "ename": "NameError",
     "evalue": "name 'ans' is not defined",
     "output_type": "error",
     "traceback": [
      "\u001b[0;31m---------------------------------------------------------------------------\u001b[0m",
      "\u001b[0;31mNameError\u001b[0m                                 Traceback (most recent call last)",
      "\u001b[0;32m<ipython-input-1-b0e96a6ac391>\u001b[0m in \u001b[0;36m<module>\u001b[0;34m\u001b[0m\n\u001b[0;32m----> 1\u001b[0;31m \u001b[0mans\u001b[0m\u001b[0;34m\u001b[0m\u001b[0;34m\u001b[0m\u001b[0m\n\u001b[0m",
      "\u001b[0;31mNameError\u001b[0m: name 'ans' is not defined"
     ]
    }
   ],
   "source": [
    "ans"
   ]
  },
  {
   "cell_type": "code",
   "execution_count": 31,
   "metadata": {},
   "outputs": [
    {
     "data": {
      "text/plain": [
       "-14.854675186839566"
      ]
     },
     "execution_count": 31,
     "metadata": {},
     "output_type": "execute_result"
    }
   ],
   "source": [
    "proba\n"
   ]
  },
  {
   "cell_type": "code",
   "execution_count": 5,
   "metadata": {},
   "outputs": [
    {
     "name": "stdout",
     "output_type": "stream",
     "text": [
      "Этот модуль позволяет находить фазу по значениям интенсивности.\n",
      "     \n",
      "     Данные должны буть представлены в следующем виде: X и Y это списки, длинны равной количеству каналов. Например, если у нас три канала, то X = [X_1, X_2, X_3] и Y = [Y_1, Y_2, Y_3]. \n",
      "     X_i и Y_i это набор данных на i-ом канале, тип этих массивов numpy. X_i[j] - это j-ая серия измерений на i-ом канале. \n",
      "     \n",
      "     В predict данные посылаются следующим образом: Y - список измерений на каждом канале. Например, Y = [Y_1, Y_2, Y_3]. Y_i - это масиив типа numpy с измерениями амплитуды в канале. Возвращает функция три значения ans, proba, probability. ans - предсказанное значение фазы, proba - логарифм вероятности этого результата, probabilyty - массив numpy значений логартфма вероятности того, что измерено phis[i].\n",
      "     \n",
      "     \n"
     ]
    }
   ],
   "source": [
    "print(gauss_est.__init__.__doc__)"
   ]
  },
  {
   "cell_type": "code",
   "execution_count": null,
   "metadata": {},
   "outputs": [],
   "source": [
    "Y = [\n",
    "    np.array([\n",
    "        [1,2,3],\n",
    "        [4,5,6,2]\n",
    "    ]),\n",
    "    [\n",
    "    ]\n",
    "]"
   ]
  }
 ],
 "metadata": {
  "kernelspec": {
   "display_name": "Python 3",
   "language": "python",
   "name": "python3"
  },
  "language_info": {
   "codemirror_mode": {
    "name": "ipython",
    "version": 3
   },
   "file_extension": ".py",
   "mimetype": "text/x-python",
   "name": "python",
   "nbconvert_exporter": "python",
   "pygments_lexer": "ipython3",
   "version": "3.7.3"
  }
 },
 "nbformat": 4,
 "nbformat_minor": 2
}
