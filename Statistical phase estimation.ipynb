{
 "cells": [
  {
   "cell_type": "code",
   "execution_count": 23,
   "metadata": {},
   "outputs": [],
   "source": [
    "import numpy as np\n",
    "import os\n",
    "import cv2"
   ]
  },
  {
   "cell_type": "code",
   "execution_count": 24,
   "metadata": {},
   "outputs": [],
   "source": [
    "a = os.listdir(\".\")\n",
    "def csv_gen(path):\n",
    "    return ( i for i in np.genfromtxt(path, delimiter=','))\n",
    "\n",
    "def fname_iter(directory):\n",
    "    return (d for d in os.listdir(directory))\n",
    "def img_iter(directory):\n",
    "    im_exts = ['png','jpg','jpeg' ]\n",
    "    for path in fname_iter(directory):\n",
    "        if path.split('.')[-1] in im_exts:\n",
    "            im = cv2.imread(path,mode='RGB')\n",
    "            yield im\n",
    "\n",
    "data_path = [\n",
    "    './data/ML_interfere_eval/seq/data_20-03-2019_18-59_portD1.csv'\n",
    "    ,'./data/ML_interfere_eval/seq/data_20-03-2019_18-59_portD2.csv'\n",
    "]"
   ]
  },
  {
   "cell_type": "code",
   "execution_count": 30,
   "metadata": {},
   "outputs": [],
   "source": [
    "def read_csv_data(filepath):\n",
    "    d = np.genfromtxt(filepath,delimiter=',')\n",
    "    return d\n",
    "\n",
    "data = [\n",
    "    read_csv_data(p) for p in data_path\n",
    "]"
   ]
  },
  {
   "cell_type": "code",
   "execution_count": 29,
   "metadata": {},
   "outputs": [
    {
     "data": {
      "text/plain": [
       "[array([[1.70314700e+01, 1.55309610e+09],\n",
       "        [1.68253500e+01, 1.55309610e+09],\n",
       "        [1.70440400e+01, 1.55309610e+09],\n",
       "        ...,\n",
       "        [1.34020100e+01, 1.55309753e+09],\n",
       "        [1.33090200e+01, 1.55309753e+09],\n",
       "        [1.33982900e+01, 1.55309753e+09]]),\n",
       " array([[4.08076000e+00, 1.55309609e+09],\n",
       "        [3.97854000e+00, 1.55309609e+09],\n",
       "        [3.66311000e+00, 1.55309610e+09],\n",
       "        ...,\n",
       "        [6.16109000e+00, 1.55309753e+09],\n",
       "        [5.90483000e+00, 1.55309753e+09],\n",
       "        [5.66042000e+00, 1.55309753e+09]])]"
      ]
     },
     "execution_count": 29,
     "metadata": {},
     "output_type": "execute_result"
    }
   ],
   "source": [
    "data"
   ]
  },
  {
   "cell_type": "code",
   "execution_count": null,
   "metadata": {},
   "outputs": [],
   "source": []
  }
 ],
 "metadata": {
  "kernelspec": {
   "display_name": "Python 3",
   "language": "python",
   "name": "python3"
  },
  "language_info": {
   "codemirror_mode": {
    "name": "ipython",
    "version": 3
   },
   "file_extension": ".py",
   "mimetype": "text/x-python",
   "name": "python",
   "nbconvert_exporter": "python",
   "pygments_lexer": "ipython3",
   "version": "3.7.3"
  }
 },
 "nbformat": 4,
 "nbformat_minor": 2
}
