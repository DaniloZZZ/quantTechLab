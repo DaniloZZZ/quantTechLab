{
 "cells": [
  {
   "cell_type": "code",
   "execution_count": 1,
   "metadata": {},
   "outputs": [],
   "source": [
    "import numpy as np\n",
    "import os\n",
    "import math\n",
    "#import cv2\n",
    "from pylab import plt\n",
    "import scipy.stats as sts"
   ]
  },
  {
   "cell_type": "code",
   "execution_count": 2,
   "metadata": {},
   "outputs": [],
   "source": [
    "a = os.listdir(\".\")\n",
    "def csv_gen(path):\n",
    "    return ( i for i in np.genfromtxt(path, delimiter=','))\n",
    "\n",
    "def fname_iter(directory):\n",
    "    return (d for d in os.listdir(directory))\n",
    "def img_iter(directory):\n",
    "    im_exts = ['png','jpg','jpeg' ]\n",
    "    for path in fname_iter(directory):\n",
    "        if path.split('.')[-1] in im_exts:\n",
    "            im = cv2.imread(path,mode='RGB')\n",
    "            yield im\n",
    "\n",
    "data_path = [\n",
    "    './data/ML_interfere_eval/seq/data_20-03-2019_18-59_portD1.csv'\n",
    "    ,'./data/ML_interfere_eval/seq/data_20-03-2019_18-59_portD2.csv'\n",
    "]"
   ]
  },
  {
   "cell_type": "code",
   "execution_count": 3,
   "metadata": {},
   "outputs": [],
   "source": [
    "def read_csv_data(filepath):\n",
    "    d = np.genfromtxt(filepath,delimiter=',')\n",
    "    return d\n",
    "\n",
    "data = [\n",
    "    read_csv_data(p) for p in data_path\n",
    "]"
   ]
  },
  {
   "cell_type": "code",
   "execution_count": 4,
   "metadata": {},
   "outputs": [
    {
     "ename": "NameError",
     "evalue": "name 'X_1' is not defined",
     "output_type": "error",
     "traceback": [
      "\u001b[0;31m---------------------------------------------------------------------------\u001b[0m",
      "\u001b[0;31mNameError\u001b[0m                                 Traceback (most recent call last)",
      "\u001b[0;32m<ipython-input-4-73e5e7726a61>\u001b[0m in \u001b[0;36m<module>\u001b[0;34m()\u001b[0m\n\u001b[0;32m----> 1\u001b[0;31m \u001b[0mplt\u001b[0m\u001b[0;34m.\u001b[0m\u001b[0mplot\u001b[0m\u001b[0;34m(\u001b[0m\u001b[0mX_1\u001b[0m\u001b[0;34m,\u001b[0m \u001b[0mY_1\u001b[0m\u001b[0;34m)\u001b[0m\u001b[0;34m\u001b[0m\u001b[0;34m\u001b[0m\u001b[0m\n\u001b[0m",
      "\u001b[0;31mNameError\u001b[0m: name 'X_1' is not defined"
     ]
    }
   ],
   "source": [
    "plt.plot(X_1, Y_1)"
   ]
  },
  {
   "cell_type": "code",
   "execution_count": 5,
   "metadata": {},
   "outputs": [],
   "source": [
    "X_1 = np.array([data[0][i][1] for i in range(len(data[0]))])[600:]\n",
    "X_2 = np.array([data[1][i][1] for i in range(len(data[1]))])[600:]"
   ]
  },
  {
   "cell_type": "code",
   "execution_count": 6,
   "metadata": {},
   "outputs": [],
   "source": [
    "Y_1 = np.array([data[0][i][0] for i in range(len(data[0]))])[600:]\n",
    "Y_2 = np.array([data[1][i][0] for i in range(len(data[1]))])[600:]"
   ]
  },
  {
   "cell_type": "code",
   "execution_count": 7,
   "metadata": {},
   "outputs": [],
   "source": [
    "X_1 = (X_1 - X_1[0])/(X_1[len(X_1)-1]-X_1[0])*2*3.1415\n",
    "X_2 = (X_2 - X_2[0])/(X_2[len(X_2)-1]-X_2[0])*2*3.1415"
   ]
  },
  {
   "cell_type": "code",
   "execution_count": 8,
   "metadata": {},
   "outputs": [],
   "source": [
    "def get_koef(phi, h, X, Y):\n",
    "    sigma = 0\n",
    "    mu = 0\n",
    "    n = 0\n",
    "    mu = Y[abs(X-phi)<h].mean()\n",
    "    sigma = Y[abs(X-phi)<h].std()\n",
    "    return mu, sigma"
   ]
  },
  {
   "cell_type": "code",
   "execution_count": 9,
   "metadata": {},
   "outputs": [],
   "source": [
    "def learning_proces(X_1, Y_1, X_2, Y_2, h):\n",
    "    phis = np.linspace(0, 2*3.1415, math.floor(3.1415/h))\n",
    "    mu_1 = np.zeros(len(phis))\n",
    "    sigma_1 = np.zeros(len(phis))\n",
    "    mu_2 = np.zeros(len(phis))\n",
    "    sigma_2 = np.zeros(len(phis))\n",
    "    for i in range(len(phis)):\n",
    "        mu_1[i] , sigma_1[i] = get_koef(phis[i], h, X_1, Y_1)\n",
    "        mu_2[i], sigma_2[i] = get_koef(phis[i], h, X_2, Y_2)\n",
    "    return phis, mu_1, mu_2, sigma_1, sigma_2"
   ]
  },
  {
   "cell_type": "code",
   "execution_count": 10,
   "metadata": {},
   "outputs": [],
   "source": [
    "def count_metrics(mu_1, sigma_1,mu_2, sigma_2, Y):\n",
    "    r = 0\n",
    "    for y in Y:\n",
    "        r -= float((y[0]-mu_1)**2/2/sigma_1**2)\n",
    "        r -= float((y[1]-mu_2)**2/2/sigma_2**2)\n",
    "    return float(r)"
   ]
  },
  {
   "cell_type": "code",
   "execution_count": 11,
   "metadata": {},
   "outputs": [],
   "source": [
    "def make_prediction(Y, phis, mu_1, mu_2, sigma_1, sigma_2):\n",
    "    ans = 0\n",
    "    prob = count_metrics(mu_1[0], sigma_1[0],mu_2[0], sigma_2[0], Y)\n",
    "    for i in range( len(mu_1)):\n",
    "        a = count_metrics(mu_1[i], sigma_1[i],mu_2[i], sigma_2[i], Y)\n",
    "        if a > prob:\n",
    "            ans = phis[i]\n",
    "            prob = a\n",
    "    probability = np.zeros(len(phis))\n",
    "    for i in range(len(phis)):\n",
    "        probability[i] = count_metrics(mu_1[i], sigma_1[i],mu_2[i], sigma_2[i], Y)\n",
    "    return ans, prob/len(Y), probability"
   ]
  },
  {
   "cell_type": "code",
   "execution_count": 12,
   "metadata": {
    "scrolled": true
   },
   "outputs": [
    {
     "name": "stdout",
     "output_type": "stream",
     "text": [
      "CPU times: user 4.49 ms, sys: 1.51 ms, total: 6 ms\n",
      "Wall time: 4.77 ms\n"
     ]
    }
   ],
   "source": [
    "%%time\n",
    "phis, mu_1, mu_2, sigma_1, sigma_2 = learning_proces(np.array(X_1), np.array(Y_1), np.array(X_2), np.array(Y_2), 0.2)"
   ]
  },
  {
   "cell_type": "code",
   "execution_count": 13,
   "metadata": {},
   "outputs": [
    {
     "data": {
      "text/plain": [
       "[<matplotlib.lines.Line2D at 0x1a1405ffd0>]"
      ]
     },
     "execution_count": 13,
     "metadata": {},
     "output_type": "execute_result"
    },
    {
     "data": {
      "image/png": "[encoded data removed]",
      "text/plain": [
       "<Figure size 432x288 with 2 Axes>"
      ]
     },
     "metadata": {
      "needs_background": "light"
     },
     "output_type": "display_data"
    }
   ],
   "source": [
    "\n",
    "plt.subplot(1,2,1)\n",
    "plt.plot(phis, np.array(mu_1)+np.array(sigma_1))\n",
    "plt.plot(phis, np.array(mu_1)-np.array(sigma_1))\n",
    "\n",
    "plt.subplot(1,2,2)\n",
    "\n",
    "plt.plot(phis, np.array(mu_2)+np.array(sigma_2))\n",
    "plt.plot(phis, np.array(mu_2)-np.array(sigma_2))"
   ]
  },
  {
   "cell_type": "code",
   "execution_count": 14,
   "metadata": {},
   "outputs": [
    {
     "ename": "SyntaxError",
     "evalue": "invalid syntax (<ipython-input-14-089f68866368>, line 12)",
     "output_type": "error",
     "traceback": [
      "\u001b[0;36m  File \u001b[0;32m\"<ipython-input-14-089f68866368>\"\u001b[0;36m, line \u001b[0;32m12\u001b[0m\n\u001b[0;31m    answers[i], proba, probability = make_prediction(, phis, mu_1, mu_2, sigma_1, sigma_2)\u001b[0m\n\u001b[0m                                                     ^\u001b[0m\n\u001b[0;31mSyntaxError\u001b[0m\u001b[0;31m:\u001b[0m invalid syntax\n"
     ]
    }
   ],
   "source": [
    "def make_test(n, x, model, sigma, model_1):\n",
    "    return [[float(sts.norm(model(x), sigma).rvs(1)),float(sts.norm(model_1(x), sigma).rvs(1))]  for i in range(10)]\n",
    "\n",
    "\n",
    "\n",
    "\n",
    "\n",
    "\n",
    "phi_test = np.linspace(0, 2*3.1415, 100)\n",
    "answers = np.zeros(len(phi_test))\n",
    "for i in range(len(phi_test)):\n",
    "    answers[i], proba, probability = make_prediction(, phis, mu_1, mu_2, sigma_1, sigma_2)\n",
    "plt.plot(phi_test, answers)  "
   ]
  },
  {
   "cell_type": "code",
   "execution_count": 15,
   "metadata": {},
   "outputs": [
    {
     "data": {
      "text/plain": [
       "array([13.62270487, 13.97576881, 12.93406139, 12.84201922, 12.21814506,\n",
       "       12.1606877 , 12.49159518, 14.13151376, 11.99797227, 14.45816236])"
      ]
     },
     "execution_count": 15,
     "metadata": {},
     "output_type": "execute_result"
    }
   ],
   "source": [
    "sts.norm(13,1).rvs((10))"
   ]
  },
  {
   "cell_type": "code",
   "execution_count": 16,
   "metadata": {},
   "outputs": [],
   "source": [
    "Y = np.zeros((10,2))"
   ]
  },
  {
   "cell_type": "code",
   "execution_count": 17,
   "metadata": {},
   "outputs": [],
   "source": [
    "for i in range(10):\n",
    "    Y[i][0] = sts.norm(19.5,1).rvs(1)\n",
    "    Y[i][1] = sts.norm(8,1).rvs(1)"
   ]
  },
  {
   "cell_type": "code",
   "execution_count": 18,
   "metadata": {},
   "outputs": [
    {
     "data": {
      "text/plain": [
       "array([[19.40451805,  7.05910655],\n",
       "       [19.53782744,  7.94591998],\n",
       "       [18.92701807,  8.29474675],\n",
       "       [17.82017495,  7.15778441],\n",
       "       [19.44024227,  6.8712316 ],\n",
       "       [19.02268866, 10.11049042],\n",
       "       [19.44144478,  7.40704094],\n",
       "       [21.17181925,  6.85939923],\n",
       "       [20.00089313,  9.29687135],\n",
       "       [18.82619756,  7.67254188]])"
      ]
     },
     "execution_count": 18,
     "metadata": {},
     "output_type": "execute_result"
    }
   ],
   "source": [
    "Y"
   ]
  },
  {
   "cell_type": "code",
   "execution_count": 19,
   "metadata": {},
   "outputs": [],
   "source": [
    "ans, proba, probability = make_prediction(Y, phis, mu_1, mu_2, sigma_1, sigma_2)"
   ]
  },
  {
   "cell_type": "code",
   "execution_count": 20,
   "metadata": {},
   "outputs": [
    {
     "data": {
      "text/plain": [
       "4.039071428571429"
      ]
     },
     "execution_count": 20,
     "metadata": {},
     "output_type": "execute_result"
    }
   ],
   "source": [
    "ans"
   ]
  },
  {
   "cell_type": "code",
   "execution_count": 21,
   "metadata": {},
   "outputs": [
    {
     "data": {
      "text/plain": [
       "-1.2205854653963333"
      ]
     },
     "execution_count": 21,
     "metadata": {},
     "output_type": "execute_result"
    }
   ],
   "source": [
    "proba"
   ]
  },
  {
   "cell_type": "code",
   "execution_count": 22,
   "metadata": {},
   "outputs": [
    {
     "data": {
      "text/plain": [
       "[<matplotlib.lines.Line2D at 0x1a141b0780>]"
      ]
     },
     "execution_count": 22,
     "metadata": {},
     "output_type": "execute_result"
    },
    {
     "data": {
      "image/png": "[encoded data removed]",
      "text/plain": [
       "<Figure size 432x288 with 1 Axes>"
      ]
     },
     "metadata": {
      "needs_background": "light"
     },
     "output_type": "display_data"
    }
   ],
   "source": [
    "plt.plot(phis, probability)"
   ]
  },
  {
   "cell_type": "code",
   "execution_count": 23,
   "metadata": {},
   "outputs": [
    {
     "data": {
      "text/plain": [
       "0.6591411520662281"
      ]
     },
     "execution_count": 23,
     "metadata": {},
     "output_type": "execute_result"
    }
   ],
   "source": [
    "sigma_1.mean()"
   ]
  },
  {
   "cell_type": "code",
   "execution_count": 24,
   "metadata": {},
   "outputs": [],
   "source": [
    "\n",
    "from gauss_est import gauss_est"
   ]
  },
  {
   "cell_type": "code",
   "execution_count": 25,
   "metadata": {},
   "outputs": [],
   "source": [
    "X = [np.array(X_1), np.array(X_2)]\n",
    "Y = [np.array(Y_1), np.array(Y_2)]"
   ]
  },
  {
   "cell_type": "code",
   "execution_count": 26,
   "metadata": {},
   "outputs": [],
   "source": [
    "estimator = gauss_est(0.1)"
   ]
  },
  {
   "cell_type": "code",
   "execution_count": 27,
   "metadata": {},
   "outputs": [],
   "source": [
    "estimator.fit(X, Y)"
   ]
  },
  {
   "cell_type": "code",
   "execution_count": 28,
   "metadata": {},
   "outputs": [],
   "source": [
    "Y = []\n",
    "Y.append(sts.norm(19.5,1).rvs(10))\n",
    "Y.append(sts.norm(8,1).rvs(10))"
   ]
  },
  {
   "cell_type": "code",
   "execution_count": 29,
   "metadata": {},
   "outputs": [
    {
     "name": "stdout",
     "output_type": "stream",
     "text": [
      "2\n",
      "-93.822220029137\n",
      "-93.822220029137\n",
      "-277.60400698429055\n",
      "-805.5255297546825\n",
      "-360.72966287596114\n",
      "-727.8244524751528\n",
      "-1163.329912571463\n",
      "-882.0280530415316\n",
      "-4710.3161473025775\n",
      "-661.0707504408097\n",
      "-9597.850316422313\n",
      "-559.6617254285502\n",
      "-1516.5945041057983\n",
      "-731.7940114516299\n",
      "-1401.2494701827263\n",
      "-800.5409756430602\n",
      "-100.96873659368512\n",
      "-343.1520993013606\n",
      "-127.80160675590349\n",
      "-98.86472669876622\n",
      "-23.508568518213906\n",
      "-5.984646647942386\n",
      "-42.034490623654726\n",
      "-72.78721753979436\n",
      "-300.113098190997\n",
      "-627.206290316373\n",
      "-878.0565891131332\n",
      "-1150.547238120994\n",
      "-356.4705381957655\n",
      "-282.3951568690733\n",
      "-408.41344108445014\n",
      "-629.278780252955\n"
     ]
    }
   ],
   "source": [
    "ans, proba = estimator.predict(Y)"
   ]
  },
  {
   "cell_type": "code",
   "execution_count": 30,
   "metadata": {},
   "outputs": [
    {
     "data": {
      "text/plain": [
       "4.188666666666666"
      ]
     },
     "execution_count": 30,
     "metadata": {},
     "output_type": "execute_result"
    }
   ],
   "source": [
    "ans"
   ]
  },
  {
   "cell_type": "code",
   "execution_count": 31,
   "metadata": {},
   "outputs": [
    {
     "data": {
      "text/plain": [
       "-5.984646647942386"
      ]
     },
     "execution_count": 31,
     "metadata": {},
     "output_type": "execute_result"
    }
   ],
   "source": [
    "proba\n"
   ]
  },
  {
   "cell_type": "code",
   "execution_count": null,
   "metadata": {},
   "outputs": [],
   "source": []
  }
 ],
 "metadata": {
  "kernelspec": {
   "display_name": "Python 3",
   "language": "python",
   "name": "python3"
  },
  "language_info": {
   "codemirror_mode": {
    "name": "ipython",
    "version": 3
   },
   "file_extension": ".py",
   "mimetype": "text/x-python",
   "name": "python",
   "nbconvert_exporter": "python",
   "pygments_lexer": "ipython3",
   "version": "3.7.2"
  }
 },
 "nbformat": 4,
 "nbformat_minor": 2
}
