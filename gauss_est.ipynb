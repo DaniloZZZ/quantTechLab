{
 "cells": [
  {
   "cell_type": "code",
   "execution_count": 3,
   "metadata": {},
   "outputs": [],
   "source": [
    "import pandas as pd\n",
    "import sklearn\n",
    "import numpy as np\n",
    "import matplotlib\n",
    "import math\n",
    "from matplotlib import pyplot as plt\n",
    "matplotlib.style.use('ggplot')\n",
    "%matplotlib inline\n",
    "import scipy.stats as sts"
   ]
  },
  {
   "cell_type": "code",
   "execution_count": 4,
   "metadata": {},
   "outputs": [],
   "source": [
    "class gauss_est:\n",
    "    def __init__(self, h):\n",
    "        self.h = h\n",
    "    \n",
    "    def get_koef(self, phi, X, Y):\n",
    "        sigma = 0\n",
    "        mu = 0\n",
    "        n = 0\n",
    "        mu = Y[abs(X-phi)<self.h].mean()\n",
    "        sigma = Y[abs(X-phi)<self.h].std()\n",
    "        return mu, sigma\n",
    "    \n",
    "    \n",
    "    def learning_proces(self, X, Y):\n",
    "        self.phis = np.linspace(0, 2*3.1415, math.floor(3.1415/self.h))\n",
    "        mu = np.zeros(len(phis))\n",
    "        sigma = np.zeros(len(self.phis))\n",
    "        for i in range(len(self.phis)):\n",
    "            mu[i] , sigma[i] = self.get_koef(self.phis[i], h, X, Y)\n",
    "        return mu, sigma\n",
    "    \n",
    "    def count_metrics(self, mu, sigma, Y):\n",
    "        r = 0\n",
    "        for i in range(len(Y)):\n",
    "            r -= (y[i]-mu[i])**2/2/sigma[i].sum()\n",
    "        return r\n",
    "    \n",
    "    def make_prediction(self, Y):\n",
    "        ans = 0\n",
    "        prob = self.count_metrics(np.array([self.mu[i][0] for i in range(len(self.mu))]), np.array([self.sigma[i][0] for i in range(len(self.sigma))]), Y)\n",
    "        for j in range(len(self.phis)):\n",
    "            a = self.count_metrics(np.array([self.mu[i][j] for i in range(len(self.mu))]), np.array([self.sigma[i][j] for i in range(len(self.sigma))]), Y)\n",
    "            if a > prob :\n",
    "                ans = self.phis[j]\n",
    "                prob = a\n",
    "        '''for i in range(len(phis)):\n",
    "            probability[i] = self.count_metrics(mu, sigma, Y)'''\n",
    "        return ans, prob\n",
    "    \n",
    "    \n",
    "    def fit(self, X, Y):\n",
    "        self.mu = []\n",
    "        self.sigma = []\n",
    "        for i in range(len(X)):\n",
    "            mu_1, sigma_1 = self.learning_proces(self, X[i], Y[i])\n",
    "            self.mu.append(mu_1)\n",
    "            self.sigma.append(sigma_1)\n",
    "            \n",
    "            \n",
    "    def predict(self, Y):\n",
    "        return self.make_prediction(Y)\n",
    "            "
   ]
  },
  {
   "cell_type": "code",
   "execution_count": null,
   "metadata": {},
   "outputs": [],
   "source": []
  }
 ],
 "metadata": {
  "kernelspec": {
   "display_name": "Python 3",
   "language": "python",
   "name": "python3"
  },
  "language_info": {
   "codemirror_mode": {
    "name": "ipython",
    "version": 3
   },
   "file_extension": ".py",
   "mimetype": "text/x-python",
   "name": "python",
   "nbconvert_exporter": "python",
   "pygments_lexer": "ipython3",
   "version": "3.7.2"
  }
 },
 "nbformat": 4,
 "nbformat_minor": 2
}
